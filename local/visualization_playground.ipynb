{
 "cells": [
  {
   "cell_type": "code",
   "execution_count": 6,
   "metadata": {},
   "outputs": [],
   "source": [
    "from crantpy import *\n",
    "from crantpy.queries import NeuronCriteria as NC"
   ]
  },
  {
   "cell_type": "code",
   "execution_count": 7,
   "metadata": {},
   "outputs": [
    {
     "data": {
      "text/plain": [
       "['root_id',\n",
       " 'nucleus_id',\n",
       " 'cave_table',\n",
       " 'proofread',\n",
       " 'status',\n",
       " 'region',\n",
       " 'proofreader_notes',\n",
       " 'side',\n",
       " 'nerve',\n",
       " 'tract',\n",
       " 'hemilineage',\n",
       " 'flow',\n",
       " 'super_class',\n",
       " 'cell_class',\n",
       " 'cell_type',\n",
       " 'cell_subtype',\n",
       " 'cell_instance',\n",
       " 'known_nt',\n",
       " 'known_nt_source',\n",
       " 'alternative_names',\n",
       " 'annotator_notes',\n",
       " 'user_annotator',\n",
       " 'user_proofreader',\n",
       " 'ngl_link',\n",
       " 'date_proofread']"
      ]
     },
     "execution_count": 7,
     "metadata": {},
     "output_type": "execute_result"
    }
   ],
   "source": [
    "NC.available_fields()"
   ]
  },
  {
   "cell_type": "code",
   "execution_count": null,
   "metadata": {},
   "outputs": [],
   "source": []
  }
 ],
 "metadata": {
  "kernelspec": {
   "display_name": "crantpy-SLqD3yXG-py3.11",
   "language": "python",
   "name": "python3"
  },
  "language_info": {
   "codemirror_mode": {
    "name": "ipython",
    "version": 3
   },
   "file_extension": ".py",
   "mimetype": "text/x-python",
   "name": "python",
   "nbconvert_exporter": "python",
   "pygments_lexer": "ipython3",
   "version": "3.11.5"
  }
 },
 "nbformat": 4,
 "nbformat_minor": 2
}
