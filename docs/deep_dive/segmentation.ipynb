{
 "cells": [
  {
   "cell_type": "markdown",
   "id": "57ed5cdf",
   "metadata": {},
   "source": [
    "# Deep Dive: Using EM Segmentation Data\n",
    "\n",
    "This comprehensive tutorial explores the powerful segmentation capabilities of CRANTpy using CAVE. We'll cover:\n",
    "\n",
    "1. **Root and supervoxel conversions** - Working with different segmentation levels\n",
    "2. **Location-based queries** - Finding segmentation at specific coordinates\n",
    "3. **ID updates and validation** - Keeping root IDs current\n",
    "4. **Neuron mapping** - Connecting spatial data to segmentation\n",
    "5. **Voxel operations** - Working with voxel-level data\n",
    "6. **Temporal analysis** - Understanding segmentation history\n",
    "7. **Spatial corrections** - Snapping coordinates to segmentation\n",
    "\n",
    "These tools are essential for working with dynamic segmentation data in CAVE/ChunkedGraph systems.\n",
    "\n",
    "Let's get started by setting up our environment."
   ]
  },
  {
   "cell_type": "code",
   "execution_count": 1,
   "id": "a3c76998",
   "metadata": {},
   "outputs": [
    {
     "name": "stdout",
     "output_type": "stream",
     "text": [
      "CRANTpy loaded successfully!\n",
      "Default dataset: latest\n"
     ]
    }
   ],
   "source": [
    "# Import CRANTpy and other necessary libraries\n",
    "import crantpy as cp\n",
    "import pandas as pd\n",
    "import numpy as np\n",
    "import matplotlib.pyplot as plt\n",
    "import seaborn as sns\n",
    "import navis\n",
    "\n",
    "# Set up logging to see progress\n",
    "cp.set_logging_level(\"WARNING\")  # Quieter for this tutorial\n",
    "\n",
    "print(\"CRANTpy loaded successfully!\")\n",
    "print(f\"Default dataset: {cp.CRANT_DEFAULT_DATASET}\")"
   ]
  },
  {
   "cell_type": "markdown",
   "id": "f1ff433a",
   "metadata": {},
   "source": [
    "## 1. Authentication Setup\n",
    "\n",
    "Before we can access the data, we need to authenticate with the CAVE service. This is typically a one-time setup."
   ]
  },
  {
   "cell_type": "code",
   "execution_count": 2,
   "id": "92df02ca",
   "metadata": {},
   "outputs": [
    {
     "name": "stdout",
     "output_type": "stream",
     "text": [
      "Successfully connected to datastack: kronauer_ant\n",
      "Server: https://proofreading.zetta.ai\n"
     ]
    }
   ],
   "source": [
    "# Generate and save authentication token (uncomment if first time)\n",
    "# cp.generate_cave_token(save=True)\n",
    "\n",
    "# Test connection\n",
    "try:\n",
    "    client = cp.get_cave_client()\n",
    "    print(f\"Successfully connected to datastack: {client.datastack_name}\")\n",
    "    print(f\"Server: {client.server_address}\")\n",
    "except Exception as e:\n",
    "    print(f\"Connection failed: {e}\")\n",
    "    print(\"Please run: cp.generate_cave_token(save=True)\")"
   ]
  },
  {
   "cell_type": "markdown",
   "id": "9db07124",
   "metadata": {},
   "source": [
    "## 2. Root IDs and Supervoxels\n",
    "\n",
    "CAVE segmentation has a hierarchical structure:\n",
    "- **Supervoxels** - The smallest atomic units (never change)\n",
    "- **L2 chunks** - Groups of supervoxels\n",
    "- **Root IDs** - The top-level segments that represent neurons (can change with edits)\n",
    "\n",
    "Understanding this hierarchy is crucial for working with dynamic segmentation."
   ]
  },
  {
   "cell_type": "markdown",
   "id": "06029504",
   "metadata": {},
   "source": [
    "### Converting Root IDs to Supervoxels\n",
    "\n",
    "Supervoxels are stable - they never change even when neurons are edited. This makes them useful for tracking neurons over time."
   ]
  },
  {
   "cell_type": "code",
   "execution_count": 3,
   "id": "2b9be17c",
   "metadata": {},
   "outputs": [
    {
     "name": "stdout",
     "output_type": "stream",
     "text": [
      "Example root IDs: ['576460752681552812' '576460752773799604' '576460752656800770']\n"
     ]
    },
    {
     "data": {
      "application/vnd.jupyter.widget-view+json": {
       "model_id": "5faa74f7a1144999ab60590ced6ff72a",
       "version_major": 2,
       "version_minor": 0
      },
      "text/plain": [
       "Querying:   0%|          | 0/3 [00:00<?, ?it/s]"
      ]
     },
     "metadata": {},
     "output_type": "display_data"
    },
    {
     "name": "stdout",
     "output_type": "stream",
     "text": [
      "Supervoxel breakdown:\n",
      "  Root 576460752656800770: 155,486 supervoxels\n",
      "    First 5: [74873375269027774 74873375268949798 74873375268996643 74873375268993836\n",
      " 74873375268949820]\n",
      "\n",
      "  Root 576460752681552812: 100,119 supervoxels\n",
      "    First 5: [74310013535161003 74310013535166331 74310013535158359 74310013535158357\n",
      " 74310013535158351]\n",
      "\n",
      "  Root 576460752773799604: 115,050 supervoxels\n",
      "    First 5: [74239507016850136 74239507016847407 74239507016839180 74239507016836277\n",
      " 74239507016836287]\n",
      "\n"
     ]
    }
   ],
   "source": [
    "# Get some example neurons\n",
    "example_neurons = cp.NeuronCriteria(cell_class='olfactory_projection_neuron', proofread=True)\n",
    "example_ids = example_neurons.get_roots()[:3]  # Get first 3\n",
    "print(f\"Example root IDs: {example_ids}\")\n",
    "\n",
    "# Convert to supervoxels\n",
    "sv_dict = cp.roots_to_supervoxels(example_ids)\n",
    "\n",
    "print(f\"Supervoxel breakdown:\")\n",
    "for root_id, supervoxels in sv_dict.items():\n",
    "    print(f\"  Root {root_id}: {len(supervoxels):,} supervoxels\")\n",
    "    print(f\"    First 5: {supervoxels[:5]}\")\n",
    "    print()"
   ]
  },
  {
   "cell_type": "markdown",
   "id": "add1e600",
   "metadata": {},
   "source": [
    "### Converting Supervoxels to Root IDs\n",
    "\n",
    "You can also go the other direction - from supervoxels to root IDs. This is useful for finding which neuron a supervoxel belongs to."
   ]
  },
  {
   "cell_type": "code",
   "execution_count": 4,
   "id": "267da1e1",
   "metadata": {},
   "outputs": [
    {
     "name": "stdout",
     "output_type": "stream",
     "text": [
      "Starting root ID: 576460752681552812\n",
      "\n",
      "Sample supervoxels: [74310013535161003 74310013535166331 74310013535158359 74310013535158357\n",
      " 74310013535158351 74310013535155583 74239575668933333 74239575668922938\n",
      " 74239575668839596 74239575668689743]\n",
      "\n",
      "Root IDs from supervoxels: [576460752681552812 576460752681552812 576460752681552812\n",
      " 576460752681552812 576460752681552812 576460752681552812\n",
      " 576460752681552812 576460752681552812 576460752681552812\n",
      " 576460752681552812]\n",
      "All belong to same root? True\n",
      "\n",
      "--- Time-based queries ---\n",
      "Current root IDs: [576460752681552812]\n"
     ]
    }
   ],
   "source": [
    "print(f\"Starting root ID: {int(example_ids[0])}\")\n",
    "\n",
    "# Take some supervoxels from our first neuron\n",
    "sample_supervoxels = sv_dict[int(example_ids[0])][:10]\n",
    "print(f\"\\nSample supervoxels: {sample_supervoxels}\")\n",
    "\n",
    "# Convert back to root IDs\n",
    "roots_from_sv = cp.supervoxels_to_roots(sample_supervoxels)\n",
    "print(f\"\\nRoot IDs from supervoxels: {roots_from_sv}\")\n",
    "print(f\"All belong to same root? {np.all(roots_from_sv == int(example_ids[0]))}\")\n",
    "\n",
    "# You can also query at a specific time\n",
    "print(\"\\n--- Time-based queries ---\")\n",
    "roots_current = cp.supervoxels_to_roots(sample_supervoxels, timestamp=\"mat\")\n",
    "print(f\"Current root IDs: {np.unique(roots_current)}\")"
   ]
  },
  {
   "cell_type": "markdown",
   "id": "3dc23b13",
   "metadata": {},
   "source": [
    "## 3. Location-Based Segmentation Queries\n",
    "\n",
    "One of the most useful operations is finding which segment exists at a specific x/y/z location."
   ]
  },
  {
   "cell_type": "markdown",
   "id": "5562258a",
   "metadata": {},
   "source": [
    "### Finding Supervoxels at Locations\n",
    "\n",
    "Get the supervoxel ID at specific coordinates."
   ]
  },
  {
   "cell_type": "code",
   "execution_count": 5,
   "id": "18104c79",
   "metadata": {},
   "outputs": [
    {
     "data": {
      "application/vnd.jupyter.widget-view+json": {
       "model_id": "1842cc748aed4725acb3bfa954fe19af",
       "version_major": 2,
       "version_minor": 0
      },
      "text/plain": [
       "Fetching L2 skeletons:   0%|          | 0/3 [00:00<?, ?it/s]"
      ]
     },
     "metadata": {},
     "output_type": "display_data"
    },
    {
     "data": {
      "application/vnd.jupyter.widget-view+json": {
       "model_id": "c0e97b633ae54854b762462b7aa0f0ca",
       "version_major": 2,
       "version_minor": 0
      },
      "text/plain": [
       "Fetching L2 skeletons:   0%|          | 0/3 [00:00<?, ?it/s]"
      ]
     },
     "metadata": {},
     "output_type": "display_data"
    },
    {
     "data": {
      "application/vnd.jupyter.widget-view+json": {
       "model_id": "65b96030b8d9434788b4111e69eda8c1",
       "version_major": 2,
       "version_minor": 0
      },
      "text/plain": [
       "Fetching L2 skeletons:   0%|          | 0/3 [00:00<?, ?it/s]"
      ]
     },
     "metadata": {},
     "output_type": "display_data"
    }
   ],
   "source": [
    "# first lets get the location of a random l2 node from each of our example neurons\n",
    "locations = []\n",
    "for i in range(len(example_ids)):\n",
    "    skel = cp.get_l2_skeleton(example_ids)\n",
    "    # pick a random index from the node list\n",
    "    index = np.random.choice(skel.nodes.index)\n",
    "    # get the location of the l2 node and\n",
    "    locations.append(skel.nodes.loc[index,['x','y','z']].values)\n",
    "locations = np.array(locations)"
   ]
  },
  {
   "cell_type": "code",
   "execution_count": 6,
   "id": "09588abf",
   "metadata": {},
   "outputs": [
    {
     "name": "stdout",
     "output_type": "stream",
     "text": [
      "Querying 3 locations...\n"
     ]
    },
    {
     "data": {
      "application/vnd.jupyter.widget-view+json": {
       "model_id": "a71f512e6089430293ba7fe7937154bd",
       "version_major": 2,
       "version_minor": 0
      },
      "text/plain": [
       "Fetching supervoxels:   0%|          | 0/3 [00:00<?, ?it/s]"
      ]
     },
     "metadata": {},
     "output_type": "display_data"
    },
    {
     "name": "stdout",
     "output_type": "stream",
     "text": [
      "\n",
      "Supervoxel IDs at locations:\n",
      "  Location 1 [np.float64(331200.0) np.float64(93376.0) np.float64(112812.0)]: supervoxel 74732225463459004\n",
      "  Location 2 [np.float64(305488.0) np.float64(107744.0) np.float64(186312.0)]: supervoxel 74521257139550053\n",
      "  Location 3 [np.float64(254752.0) np.float64(236672.0) np.float64(75222.0)]: supervoxel 74100074728972648\n"
     ]
    },
    {
     "data": {
      "application/vnd.jupyter.widget-view+json": {
       "model_id": "b70cf1d703f447a8aa40c7f2ec2b7f96",
       "version_major": 2,
       "version_minor": 0
      },
      "text/plain": [
       "Fetching supervoxels:   0%|          | 0/3 [00:00<?, ?it/s]"
      ]
     },
     "metadata": {},
     "output_type": "display_data"
    },
    {
     "name": "stdout",
     "output_type": "stream",
     "text": [
      "\n",
      "Locations DataFrame:\n"
     ]
    },
    {
     "data": {
      "application/vnd.microsoft.datawrangler.viewer.v0+json": {
       "columns": [
        {
         "name": "index",
         "rawType": "int64",
         "type": "integer"
        },
        {
         "name": "x",
         "rawType": "object",
         "type": "unknown"
        },
        {
         "name": "y",
         "rawType": "object",
         "type": "unknown"
        },
        {
         "name": "z",
         "rawType": "object",
         "type": "unknown"
        },
        {
         "name": "supervoxel_id",
         "rawType": "uint64",
         "type": "integer"
        }
       ],
       "ref": "5c5535e0-2738-4aec-ab26-37e294fe45c1",
       "rows": [
        [
         "0",
         "331200.0",
         "93376.0",
         "112812.0",
         "74732225463459004"
        ],
        [
         "1",
         "305488.0",
         "107744.0",
         "186312.0",
         "74521257139550053"
        ],
        [
         "2",
         "254752.0",
         "236672.0",
         "75222.0",
         "74100074728972648"
        ]
       ],
       "shape": {
        "columns": 4,
        "rows": 3
       }
      },
      "text/html": [
       "<div>\n",
       "<style scoped>\n",
       "    .dataframe tbody tr th:only-of-type {\n",
       "        vertical-align: middle;\n",
       "    }\n",
       "\n",
       "    .dataframe tbody tr th {\n",
       "        vertical-align: top;\n",
       "    }\n",
       "\n",
       "    .dataframe thead th {\n",
       "        text-align: right;\n",
       "    }\n",
       "</style>\n",
       "<table border=\"1\" class=\"dataframe\">\n",
       "  <thead>\n",
       "    <tr style=\"text-align: right;\">\n",
       "      <th></th>\n",
       "      <th>x</th>\n",
       "      <th>y</th>\n",
       "      <th>z</th>\n",
       "      <th>supervoxel_id</th>\n",
       "    </tr>\n",
       "  </thead>\n",
       "  <tbody>\n",
       "    <tr>\n",
       "      <th>0</th>\n",
       "      <td>331200.0</td>\n",
       "      <td>93376.0</td>\n",
       "      <td>112812.0</td>\n",
       "      <td>74732225463459004</td>\n",
       "    </tr>\n",
       "    <tr>\n",
       "      <th>1</th>\n",
       "      <td>305488.0</td>\n",
       "      <td>107744.0</td>\n",
       "      <td>186312.0</td>\n",
       "      <td>74521257139550053</td>\n",
       "    </tr>\n",
       "    <tr>\n",
       "      <th>2</th>\n",
       "      <td>254752.0</td>\n",
       "      <td>236672.0</td>\n",
       "      <td>75222.0</td>\n",
       "      <td>74100074728972648</td>\n",
       "    </tr>\n",
       "  </tbody>\n",
       "</table>\n",
       "</div>"
      ],
      "text/plain": [
       "          x         y         z      supervoxel_id\n",
       "0  331200.0   93376.0  112812.0  74732225463459004\n",
       "1  305488.0  107744.0  186312.0  74521257139550053\n",
       "2  254752.0  236672.0   75222.0  74100074728972648"
      ]
     },
     "metadata": {},
     "output_type": "display_data"
    }
   ],
   "source": [
    "\n",
    "print(f\"Querying {len(locations)} locations...\")\n",
    "\n",
    "# Get supervoxel IDs at these locations\n",
    "supervoxels_at_locs = cp.locs_to_supervoxels(\n",
    "    locations, \n",
    "    coordinates=\"nm\",\n",
    "    mip=0  # Highest resolution\n",
    ")\n",
    "\n",
    "print(f\"\\nSupervoxel IDs at locations:\")\n",
    "for i, (loc, sv_id) in enumerate(zip(locations, supervoxels_at_locs)):\n",
    "    print(f\"  Location {i+1} {loc}: supervoxel {sv_id}\")\n",
    "\n",
    "# You can also use DataFrames\n",
    "loc_df = pd.DataFrame(locations, columns=['x', 'y', 'z'])\n",
    "supervoxels_df = cp.locs_to_supervoxels(loc_df, coordinates=\"nm\")\n",
    "loc_df['supervoxel_id'] = supervoxels_df\n",
    "print(\"\\nLocations DataFrame:\")\n",
    "display(loc_df)"
   ]
  },
  {
   "cell_type": "markdown",
   "id": "21ba9b19",
   "metadata": {},
   "source": [
    "### Finding Root IDs (Segments) at Locations\n",
    "\n",
    "More commonly, you want to know which neuron (root ID) is at a location."
   ]
  },
  {
   "cell_type": "code",
   "execution_count": 7,
   "id": "ed3d0c13",
   "metadata": {},
   "outputs": [
    {
     "data": {
      "application/vnd.jupyter.widget-view+json": {
       "model_id": "b0acf74ca7d744a082cf2b4503704eb8",
       "version_major": 2,
       "version_minor": 0
      },
      "text/plain": [
       "Fetching supervoxels:   0%|          | 0/3 [00:00<?, ?it/s]"
      ]
     },
     "metadata": {},
     "output_type": "display_data"
    },
    {
     "name": "stdout",
     "output_type": "stream",
     "text": [
      "Root IDs at locations:\n",
      "  Location 1 [np.float64(331200.0) np.float64(93376.0) np.float64(112812.0)]: root ID 576460752681552812\n",
      "  Location 2 [np.float64(305488.0) np.float64(107744.0) np.float64(186312.0)]: root ID 576460752656800770\n",
      "  Location 3 [np.float64(254752.0) np.float64(236672.0) np.float64(75222.0)]: root ID 576460752681552812\n",
      "\n",
      "Found 2 unique neurons at these locations\n",
      "\n",
      "Neurons found at locations:\n"
     ]
    },
    {
     "data": {
      "application/vnd.microsoft.datawrangler.viewer.v0+json": {
       "columns": [
        {
         "name": "index",
         "rawType": "int64",
         "type": "integer"
        },
        {
         "name": "root_id",
         "rawType": "object",
         "type": "string"
        },
        {
         "name": "cell_class",
         "rawType": "object",
         "type": "string"
        },
        {
         "name": "cell_type",
         "rawType": "object",
         "type": "unknown"
        },
        {
         "name": "side",
         "rawType": "object",
         "type": "string"
        }
       ],
       "ref": "bc075db0-a644-475f-8517-1bc372832cf6",
       "rows": [
        [
         "1",
         "576460752681552812",
         "olfactory_projection_neuron",
         null,
         "left"
        ],
        [
         "5",
         "576460752656800770",
         "olfactory_projection_neuron",
         null,
         "right"
        ]
       ],
       "shape": {
        "columns": 4,
        "rows": 2
       }
      },
      "text/html": [
       "<div>\n",
       "<style scoped>\n",
       "    .dataframe tbody tr th:only-of-type {\n",
       "        vertical-align: middle;\n",
       "    }\n",
       "\n",
       "    .dataframe tbody tr th {\n",
       "        vertical-align: top;\n",
       "    }\n",
       "\n",
       "    .dataframe thead th {\n",
       "        text-align: right;\n",
       "    }\n",
       "</style>\n",
       "<table border=\"1\" class=\"dataframe\">\n",
       "  <thead>\n",
       "    <tr style=\"text-align: right;\">\n",
       "      <th></th>\n",
       "      <th>root_id</th>\n",
       "      <th>cell_class</th>\n",
       "      <th>cell_type</th>\n",
       "      <th>side</th>\n",
       "    </tr>\n",
       "  </thead>\n",
       "  <tbody>\n",
       "    <tr>\n",
       "      <th>1</th>\n",
       "      <td>576460752681552812</td>\n",
       "      <td>olfactory_projection_neuron</td>\n",
       "      <td>None</td>\n",
       "      <td>left</td>\n",
       "    </tr>\n",
       "    <tr>\n",
       "      <th>5</th>\n",
       "      <td>576460752656800770</td>\n",
       "      <td>olfactory_projection_neuron</td>\n",
       "      <td>None</td>\n",
       "      <td>right</td>\n",
       "    </tr>\n",
       "  </tbody>\n",
       "</table>\n",
       "</div>"
      ],
      "text/plain": [
       "              root_id                   cell_class cell_type   side\n",
       "1  576460752681552812  olfactory_projection_neuron      None   left\n",
       "5  576460752656800770  olfactory_projection_neuron      None  right"
      ]
     },
     "metadata": {},
     "output_type": "display_data"
    }
   ],
   "source": [
    "# Get root IDs at the same locations\n",
    "root_ids_at_locs = cp.locs_to_segments(\n",
    "    locations,\n",
    "    coordinates=\"nm\",\n",
    "    timestamp=\"mat\"  # Use latest materialization\n",
    ")\n",
    "\n",
    "print(f\"Root IDs at locations:\")\n",
    "for i, (loc, root_id) in enumerate(zip(locations, root_ids_at_locs)):\n",
    "    print(f\"  Location {i+1} {loc}: root ID {root_id}\")\n",
    "\n",
    "# Check if any locations hit the same neuron\n",
    "unique_roots = np.unique(root_ids_at_locs[root_ids_at_locs != 0])\n",
    "print(f\"\\nFound {len(unique_roots)} unique neurons at these locations\")\n",
    "\n",
    "# Get annotations for these neurons\n",
    "if len(unique_roots) > 0:\n",
    "    annotations = cp.get_annotations(unique_roots)\n",
    "    print(\"\\nNeurons found at locations:\")\n",
    "    display(annotations[['root_id', 'cell_class', 'cell_type', 'side']].head(unique_roots.size))"
   ]
  },
  {
   "cell_type": "markdown",
   "id": "63021df3",
   "metadata": {},
   "source": [
    "## 4. Updating and Validating Root IDs\n",
    "\n",
    "Root IDs can become outdated as neurons are edited (merged/split). CRANTpy provides tools to check and update IDs."
   ]
  },
  {
   "cell_type": "markdown",
   "id": "2065cb95",
   "metadata": {},
   "source": [
    "### Validating Root IDs\n",
    "\n",
    "Check if root IDs are valid and current."
   ]
  },
  {
   "cell_type": "code",
   "execution_count": 8,
   "id": "58d72b83",
   "metadata": {},
   "outputs": [
    {
     "name": "stdout",
     "output_type": "stream",
     "text": [
      "Testing 3 root IDs...\n",
      "\n",
      "Validity check:\n",
      "  576460752681552812: ✓ Valid\n",
      "  576460752773799604: ✓ Valid\n",
      "  576460752656800770: ✓ Valid\n",
      "\n",
      "Latest check:\n",
      "  576460752681552812: ✓ Current\n",
      "  576460752773799604: ✓ Current\n",
      "  576460752656800770: ✓ Current\n",
      "\n",
      "Summary: 3/3 valid, 3/3 current\n"
     ]
    }
   ],
   "source": [
    "# Check if root IDs are valid\n",
    "test_ids = example_ids[:5]\n",
    "print(f\"Testing {len(test_ids)} root IDs...\")\n",
    "\n",
    "# Check validity\n",
    "is_valid = cp.is_valid_root(test_ids)\n",
    "print(f\"\\nValidity check:\")\n",
    "for root_id, valid in zip(test_ids, is_valid):\n",
    "    status = \"✓ Valid\" if valid else \"✗ Invalid\"\n",
    "    print(f\"  {root_id}: {status}\")\n",
    "\n",
    "# Check if they're the latest version\n",
    "is_latest = cp.is_latest_roots(test_ids)\n",
    "print(f\"\\nLatest check:\")\n",
    "for root_id, latest in zip(test_ids, is_latest):\n",
    "    status = \"✓ Current\" if latest else \"✗ Outdated\"\n",
    "    print(f\"  {root_id}: {status}\")\n",
    "\n",
    "# Summary\n",
    "print(f\"\\nSummary: {np.sum(is_valid)}/{len(test_ids)} valid, {np.sum(is_latest)}/{len(test_ids)} current\")"
   ]
  },
  {
   "cell_type": "markdown",
   "id": "357a3234",
   "metadata": {},
   "source": [
    "### Updating Outdated Root IDs\n",
    "\n",
    "If you have outdated root IDs, you can update them to the current version."
   ]
  },
  {
   "cell_type": "code",
   "execution_count": 9,
   "id": "b54b4462",
   "metadata": {},
   "outputs": [
    {
     "name": "stderr",
     "output_type": "stream",
     "text": [
      "2025-10-04 16:11:23 - WARNING - Multiple supervoxel IDs found for 130 root IDs. Using first occurrence for each.\n"
     ]
    },
    {
     "name": "stdout",
     "output_type": "stream",
     "text": [
      "Update results:\n"
     ]
    },
    {
     "data": {
      "application/vnd.microsoft.datawrangler.viewer.v0+json": {
       "columns": [
        {
         "name": "index",
         "rawType": "int64",
         "type": "integer"
        },
        {
         "name": "old_id",
         "rawType": "int64",
         "type": "integer"
        },
        {
         "name": "new_id",
         "rawType": "int64",
         "type": "integer"
        },
        {
         "name": "confidence",
         "rawType": "float64",
         "type": "float"
        },
        {
         "name": "changed",
         "rawType": "bool",
         "type": "boolean"
        }
       ],
       "ref": "5aed7203-80dc-4313-9485-f68279d4322a",
       "rows": [
        [
         "0",
         "576460752681552812",
         "576460752681552812",
         "1.0",
         "False"
        ],
        [
         "1",
         "576460752773799604",
         "576460752773799604",
         "1.0",
         "False"
        ],
        [
         "2",
         "576460752656800770",
         "576460752656800770",
         "1.0",
         "False"
        ]
       ],
       "shape": {
        "columns": 4,
        "rows": 3
       }
      },
      "text/html": [
       "<div>\n",
       "<style scoped>\n",
       "    .dataframe tbody tr th:only-of-type {\n",
       "        vertical-align: middle;\n",
       "    }\n",
       "\n",
       "    .dataframe tbody tr th {\n",
       "        vertical-align: top;\n",
       "    }\n",
       "\n",
       "    .dataframe thead th {\n",
       "        text-align: right;\n",
       "    }\n",
       "</style>\n",
       "<table border=\"1\" class=\"dataframe\">\n",
       "  <thead>\n",
       "    <tr style=\"text-align: right;\">\n",
       "      <th></th>\n",
       "      <th>old_id</th>\n",
       "      <th>new_id</th>\n",
       "      <th>confidence</th>\n",
       "      <th>changed</th>\n",
       "    </tr>\n",
       "  </thead>\n",
       "  <tbody>\n",
       "    <tr>\n",
       "      <th>0</th>\n",
       "      <td>576460752681552812</td>\n",
       "      <td>576460752681552812</td>\n",
       "      <td>1.0</td>\n",
       "      <td>False</td>\n",
       "    </tr>\n",
       "    <tr>\n",
       "      <th>1</th>\n",
       "      <td>576460752773799604</td>\n",
       "      <td>576460752773799604</td>\n",
       "      <td>1.0</td>\n",
       "      <td>False</td>\n",
       "    </tr>\n",
       "    <tr>\n",
       "      <th>2</th>\n",
       "      <td>576460752656800770</td>\n",
       "      <td>576460752656800770</td>\n",
       "      <td>1.0</td>\n",
       "      <td>False</td>\n",
       "    </tr>\n",
       "  </tbody>\n",
       "</table>\n",
       "</div>"
      ],
      "text/plain": [
       "               old_id              new_id  confidence  changed\n",
       "0  576460752681552812  576460752681552812         1.0    False\n",
       "1  576460752773799604  576460752773799604         1.0    False\n",
       "2  576460752656800770  576460752656800770         1.0    False"
      ]
     },
     "metadata": {},
     "output_type": "display_data"
    },
    {
     "name": "stdout",
     "output_type": "stream",
     "text": [
      "\n",
      "✓ All IDs were already current!\n",
      "\n",
      "--- Using supervoxels for faster updates ---\n",
      "Testing with root ID: 576460752656800770, supervoxel: 74873375269027774\n",
      "\n",
      "Update with supervoxel:\n"
     ]
    },
    {
     "data": {
      "application/vnd.microsoft.datawrangler.viewer.v0+json": {
       "columns": [
        {
         "name": "index",
         "rawType": "int64",
         "type": "integer"
        },
        {
         "name": "old_id",
         "rawType": "int64",
         "type": "integer"
        },
        {
         "name": "new_id",
         "rawType": "int64",
         "type": "integer"
        },
        {
         "name": "confidence",
         "rawType": "float64",
         "type": "float"
        },
        {
         "name": "changed",
         "rawType": "bool",
         "type": "boolean"
        }
       ],
       "ref": "3f713937-57c2-406b-ac2c-2f27b59b9b7c",
       "rows": [
        [
         "0",
         "576460752656800770",
         "576460752656800770",
         "1.0",
         "False"
        ]
       ],
       "shape": {
        "columns": 4,
        "rows": 1
       }
      },
      "text/html": [
       "<div>\n",
       "<style scoped>\n",
       "    .dataframe tbody tr th:only-of-type {\n",
       "        vertical-align: middle;\n",
       "    }\n",
       "\n",
       "    .dataframe tbody tr th {\n",
       "        vertical-align: top;\n",
       "    }\n",
       "\n",
       "    .dataframe thead th {\n",
       "        text-align: right;\n",
       "    }\n",
       "</style>\n",
       "<table border=\"1\" class=\"dataframe\">\n",
       "  <thead>\n",
       "    <tr style=\"text-align: right;\">\n",
       "      <th></th>\n",
       "      <th>old_id</th>\n",
       "      <th>new_id</th>\n",
       "      <th>confidence</th>\n",
       "      <th>changed</th>\n",
       "    </tr>\n",
       "  </thead>\n",
       "  <tbody>\n",
       "    <tr>\n",
       "      <th>0</th>\n",
       "      <td>576460752656800770</td>\n",
       "      <td>576460752656800770</td>\n",
       "      <td>1.0</td>\n",
       "      <td>False</td>\n",
       "    </tr>\n",
       "  </tbody>\n",
       "</table>\n",
       "</div>"
      ],
      "text/plain": [
       "               old_id              new_id  confidence  changed\n",
       "0  576460752656800770  576460752656800770         1.0    False"
      ]
     },
     "metadata": {},
     "output_type": "display_data"
    }
   ],
   "source": [
    "# Update root IDs to latest version\n",
    "update_result = cp.update_ids(test_ids, progress=True)\n",
    "\n",
    "print(\"Update results:\")\n",
    "display(update_result)\n",
    "\n",
    "# Check which IDs changed\n",
    "changed = update_result[update_result['changed']]\n",
    "if len(changed) > 0:\n",
    "    print(f\"\\n{len(changed)} IDs were updated:\")\n",
    "    display(changed)\n",
    "else:\n",
    "    print(\"\\n✓ All IDs were already current!\")\n",
    "\n",
    "# Update with supervoxels (much faster if you have them)\n",
    "print(\"\\n--- Using supervoxels for faster updates ---\")\n",
    "# If you have supervoxels saved from earlier\n",
    "if len(sv_dict) > 0:\n",
    "    # Get the first root from sv_dict\n",
    "    first_root = list(sv_dict.keys())[0]\n",
    "    \n",
    "    # Get first supervoxel and ensure it's a Python int\n",
    "    # sv_dict[root_id] returns an array of supervoxels\n",
    "    first_sv_array = sv_dict[first_root]\n",
    "    if len(first_sv_array) > 0:\n",
    "        first_sv = int(first_sv_array[0])\n",
    "        \n",
    "        print(f\"Testing with root ID: {first_root}, supervoxel: {first_sv}\")\n",
    "        \n",
    "        try:\n",
    "            update_with_sv = cp.update_ids(\n",
    "                [int(first_root)],  # Ensure root is also int\n",
    "                supervoxels=[first_sv],\n",
    "                progress=False\n",
    "            )\n",
    "            print(\"\\nUpdate with supervoxel:\")\n",
    "            display(update_with_sv)\n",
    "        except Exception as e:\n",
    "            print(f\"\\nError during update with supervoxel: {e}\")\n",
    "    else:\n",
    "        print(\"No supervoxels found for first root\")\n",
    "else:\n",
    "    print(\"No supervoxels available in sv_dict\")"
   ]
  },
  {
   "cell_type": "markdown",
   "id": "314b06f2",
   "metadata": {},
   "source": [
    "## 5. Mapping Neurons to Segmentation\n",
    "\n",
    "If you have neuron reconstructions (skeletons), you can find which root IDs they overlap with."
   ]
  },
  {
   "cell_type": "markdown",
   "id": "6112b9c1",
   "metadata": {},
   "source": [
    "### Finding Overlapping Segments\n",
    "\n",
    "This is useful for:\n",
    "- Validating that a skeleton matches the expected segmentation\n",
    "- Finding which segments a tracing overlaps with\n",
    "- Quality control of reconstructions"
   ]
  },
  {
   "cell_type": "code",
   "execution_count": 10,
   "id": "39e218b8",
   "metadata": {},
   "outputs": [
    {
     "name": "stdout",
     "output_type": "stream",
     "text": [
      "Created test neuron with 20 nodes\n"
     ]
    },
    {
     "data": {
      "application/vnd.jupyter.widget-view+json": {
       "model_id": "c28ddf457ffa4736be7ad7cd8d80a3d6",
       "version_major": 2,
       "version_minor": 0
      },
      "text/plain": [
       "Fetching supervoxels:   0%|          | 0/20 [00:00<?, ?it/s]"
      ]
     },
     "metadata": {},
     "output_type": "display_data"
    },
    {
     "name": "stdout",
     "output_type": "stream",
     "text": [
      "\n",
      "Best matching segment:\n"
     ]
    },
    {
     "data": {
      "application/vnd.microsoft.datawrangler.viewer.v0+json": {
       "columns": [
        {
         "name": "index",
         "rawType": "int64",
         "type": "integer"
        },
        {
         "name": "id",
         "rawType": "object",
         "type": "unknown"
        },
        {
         "name": "match",
         "rawType": "int64",
         "type": "integer"
        },
        {
         "name": "confidence",
         "rawType": "float64",
         "type": "float"
        }
       ],
       "ref": "dbd41fec-8a1b-4a95-a8bc-32766883dad5",
       "rows": [
        [
         "0",
         "6a033bea-6948-4e10-9229-431c8f5e7a22",
         "576460752681552812",
         "0.1"
        ]
       ],
       "shape": {
        "columns": 3,
        "rows": 1
       }
      },
      "text/html": [
       "<div>\n",
       "<style scoped>\n",
       "    .dataframe tbody tr th:only-of-type {\n",
       "        vertical-align: middle;\n",
       "    }\n",
       "\n",
       "    .dataframe tbody tr th {\n",
       "        vertical-align: top;\n",
       "    }\n",
       "\n",
       "    .dataframe thead th {\n",
       "        text-align: right;\n",
       "    }\n",
       "</style>\n",
       "<table border=\"1\" class=\"dataframe\">\n",
       "  <thead>\n",
       "    <tr style=\"text-align: right;\">\n",
       "      <th></th>\n",
       "      <th>id</th>\n",
       "      <th>match</th>\n",
       "      <th>confidence</th>\n",
       "    </tr>\n",
       "  </thead>\n",
       "  <tbody>\n",
       "    <tr>\n",
       "      <th>0</th>\n",
       "      <td>6a033bea-6948-4e10-9229-431c8f5e7a22</td>\n",
       "      <td>576460752681552812</td>\n",
       "      <td>0.1</td>\n",
       "    </tr>\n",
       "  </tbody>\n",
       "</table>\n",
       "</div>"
      ],
      "text/plain": [
       "                                     id               match  confidence\n",
       "0  6a033bea-6948-4e10-9229-431c8f5e7a22  576460752681552812         0.1"
      ]
     },
     "metadata": {},
     "output_type": "display_data"
    },
    {
     "data": {
      "application/vnd.jupyter.widget-view+json": {
       "model_id": "ebe985f4e68241f7be12dbedad18ad06",
       "version_major": 2,
       "version_minor": 0
      },
      "text/plain": [
       "Fetching supervoxels:   0%|          | 0/20 [00:00<?, ?it/s]"
      ]
     },
     "metadata": {},
     "output_type": "display_data"
    },
    {
     "name": "stdout",
     "output_type": "stream",
     "text": [
      "\n",
      "Full overlap matrix:\n",
      "Shape: (13, 1)\n"
     ]
    },
    {
     "data": {
      "application/vnd.microsoft.datawrangler.viewer.v0+json": {
       "columns": [
        {
         "name": "root_id",
         "rawType": "int64",
         "type": "integer"
        },
        {
         "name": "6a033bea-6948-4e10-9229-431c8f5e7a22",
         "rawType": "int64",
         "type": "integer"
        }
       ],
       "ref": "05cdfc8a-72bc-4e87-8c8d-ee738bdda339",
       "rows": [
        [
         "576460752502203165",
         "1"
        ],
        [
         "576460752502255389",
         "1"
        ],
        [
         "576460752551876313",
         "1"
        ],
        [
         "576460752552099545",
         "1"
        ],
        [
         "576460752552427737",
         "1"
        ],
        [
         "576460752642804358",
         "1"
        ],
        [
         "576460752679586871",
         "3"
        ],
        [
         "576460752681552812",
         "5"
        ],
        [
         "576460752693418619",
         "2"
        ],
        [
         "576460752699284028",
         "1"
        ],
        [
         "576460752717903902",
         "1"
        ],
        [
         "576460752743326756",
         "1"
        ],
        [
         "576460752759576234",
         "1"
        ]
       ],
       "shape": {
        "columns": 1,
        "rows": 13
       }
      },
      "text/html": [
       "<div>\n",
       "<style scoped>\n",
       "    .dataframe tbody tr th:only-of-type {\n",
       "        vertical-align: middle;\n",
       "    }\n",
       "\n",
       "    .dataframe tbody tr th {\n",
       "        vertical-align: top;\n",
       "    }\n",
       "\n",
       "    .dataframe thead th {\n",
       "        text-align: right;\n",
       "    }\n",
       "</style>\n",
       "<table border=\"1\" class=\"dataframe\">\n",
       "  <thead>\n",
       "    <tr style=\"text-align: right;\">\n",
       "      <th>id</th>\n",
       "      <th>6a033bea-6948-4e10-9229-431c8f5e7a22</th>\n",
       "    </tr>\n",
       "    <tr>\n",
       "      <th>root_id</th>\n",
       "      <th></th>\n",
       "    </tr>\n",
       "  </thead>\n",
       "  <tbody>\n",
       "    <tr>\n",
       "      <th>576460752502203165</th>\n",
       "      <td>1</td>\n",
       "    </tr>\n",
       "    <tr>\n",
       "      <th>576460752502255389</th>\n",
       "      <td>1</td>\n",
       "    </tr>\n",
       "    <tr>\n",
       "      <th>576460752551876313</th>\n",
       "      <td>1</td>\n",
       "    </tr>\n",
       "    <tr>\n",
       "      <th>576460752552099545</th>\n",
       "      <td>1</td>\n",
       "    </tr>\n",
       "    <tr>\n",
       "      <th>576460752552427737</th>\n",
       "      <td>1</td>\n",
       "    </tr>\n",
       "    <tr>\n",
       "      <th>576460752642804358</th>\n",
       "      <td>1</td>\n",
       "    </tr>\n",
       "    <tr>\n",
       "      <th>576460752679586871</th>\n",
       "      <td>3</td>\n",
       "    </tr>\n",
       "    <tr>\n",
       "      <th>576460752681552812</th>\n",
       "      <td>5</td>\n",
       "    </tr>\n",
       "    <tr>\n",
       "      <th>576460752693418619</th>\n",
       "      <td>2</td>\n",
       "    </tr>\n",
       "    <tr>\n",
       "      <th>576460752699284028</th>\n",
       "      <td>1</td>\n",
       "    </tr>\n",
       "    <tr>\n",
       "      <th>576460752717903902</th>\n",
       "      <td>1</td>\n",
       "    </tr>\n",
       "    <tr>\n",
       "      <th>576460752743326756</th>\n",
       "      <td>1</td>\n",
       "    </tr>\n",
       "    <tr>\n",
       "      <th>576460752759576234</th>\n",
       "      <td>1</td>\n",
       "    </tr>\n",
       "  </tbody>\n",
       "</table>\n",
       "</div>"
      ],
      "text/plain": [
       "id                  6a033bea-6948-4e10-9229-431c8f5e7a22\n",
       "root_id                                                 \n",
       "576460752502203165                                     1\n",
       "576460752502255389                                     1\n",
       "576460752551876313                                     1\n",
       "576460752552099545                                     1\n",
       "576460752552427737                                     1\n",
       "576460752642804358                                     1\n",
       "576460752679586871                                     3\n",
       "576460752681552812                                     5\n",
       "576460752693418619                                     2\n",
       "576460752699284028                                     1\n",
       "576460752717903902                                     1\n",
       "576460752743326756                                     1\n",
       "576460752759576234                                     1"
      ]
     },
     "metadata": {},
     "output_type": "display_data"
    }
   ],
   "source": [
    "# For this example, we'll create a simple synthetic neuron\n",
    "# In practice, you would load your actual neuron data\n",
    "\n",
    "center_location = locations[0]  # Use the first location from earlier\n",
    "spread = 2000  # Spread of the synthetic neuron\n",
    "\n",
    "# Create a simple TreeNeuron with nodes in your space\n",
    "nodes_data = pd.DataFrame({\n",
    "    'node_id': range(20),\n",
    "    'x': np.linspace(center_location[0] - spread, center_location[0] + spread, 20),\n",
    "    'y': np.linspace(center_location[1] - spread, center_location[1] + spread, 20),\n",
    "    'z': np.linspace(center_location[2] - spread, center_location[2] + spread, 20),\n",
    "    'parent_id': [-1] + list(range(19))\n",
    "})\n",
    "\n",
    "test_neuron = navis.TreeNeuron(nodes_data, units='nm')\n",
    "print(f\"Created test neuron with {len(test_neuron.nodes)} nodes\")\n",
    "\n",
    "# Find which segments overlap with this neuron\n",
    "overlap_summary = cp.neuron_to_segments(\n",
    "    test_neuron,\n",
    "    short=True,  # Just get top match\n",
    "    coordinates=\"nm\"\n",
    ")\n",
    "\n",
    "print(\"\\nBest matching segment:\")\n",
    "display(overlap_summary)\n",
    "\n",
    "# Get full overlap matrix\n",
    "overlap_matrix = cp.neuron_to_segments(\n",
    "    test_neuron,\n",
    "    short=False,\n",
    "    coordinates=\"nm\"\n",
    ")\n",
    "\n",
    "print(\"\\nFull overlap matrix:\")\n",
    "print(f\"Shape: {overlap_matrix.shape}\")\n",
    "display(overlap_matrix)"
   ]
  },
  {
   "cell_type": "markdown",
   "id": "cddfa0e4",
   "metadata": {},
   "source": [
    "## 6. Segmentation Cutouts\n",
    "\n",
    "You can extract a 3D volume of segmentation data in a bounding box."
   ]
  },
  {
   "cell_type": "markdown",
   "id": "f766a0de",
   "metadata": {},
   "source": [
    "### Extracting a Volume of Segmentation\n",
    "\n",
    "This is useful for:\n",
    "- Analyzing local connectivity\n",
    "- Visualizing segmentation in 3D\n",
    "- Finding all segments in a region"
   ]
  },
  {
   "cell_type": "code",
   "execution_count": 11,
   "id": "e798f0b6",
   "metadata": {},
   "outputs": [
    {
     "name": "stdout",
     "output_type": "stream",
     "text": [
      "Fetching segmentation cutout...\n",
      "Bounding box (nm):\n",
      "  X: [329200. 333200.]\n",
      "  Y: [91376. 95376.]\n",
      "  Z: [112712. 112912.]\n",
      "\n",
      "Cutout info:\n",
      "  Shape: (124, 124, 4)\n",
      "  Resolution: [32 32 42] nm/voxel\n",
      "  Offset: [329216  91392 112728] nm\n",
      "\n",
      "Found 311 unique segments in this volume\n",
      "Segment IDs: [576460752499537597 576460752502187549 576460752502203933\n",
      " 576460752502220317 576460752502236445 576460752502254877\n",
      " 576460752502268701 576460752502268957 576460752502275869\n",
      " 576460752502276893]...\n"
     ]
    },
    {
     "data": {
      "image/png": "[encoded data removed]",
      "text/plain": [
       "<Figure size 1000x1000 with 2 Axes>"
      ]
     },
     "metadata": {},
     "output_type": "display_data"
    }
   ],
   "source": [
    "# Define a small bounding box (in nanometers)\n",
    "# Format: [[xmin, xmax], [ymin, ymax], [zmin, zmax]]\n",
    "\n",
    "# create a box around the center_location\n",
    "bbox = np.array([\n",
    "    [center_location[0] - 2000, center_location[0] + 2000],\n",
    "    [center_location[1] - 2000, center_location[1] + 2000],\n",
    "    [center_location[2] - 100, center_location[2] + 100]\n",
    "])\n",
    "\n",
    "print(f\"Fetching segmentation cutout...\")\n",
    "print(f\"Bounding box (nm):\")\n",
    "print(f\"  X: {bbox[0]}\")\n",
    "print(f\"  Y: {bbox[1]}\")\n",
    "print(f\"  Z: {bbox[2]}\")\n",
    "\n",
    "# Get the cutout with root IDs\n",
    "cutout, resolution, offset = cp.get_segmentation_cutout(\n",
    "    bbox,\n",
    "    root_ids=True,  # Get root IDs (not supervoxels)\n",
    "    mip=1,          # Lower resolution for faster fetching\n",
    "    coordinates=\"nm\"\n",
    ")\n",
    "\n",
    "print(f\"\\nCutout info:\")\n",
    "print(f\"  Shape: {cutout.shape}\")\n",
    "print(f\"  Resolution: {resolution} nm/voxel\")\n",
    "print(f\"  Offset: {offset} nm\")\n",
    "\n",
    "# Find unique segments in this volume\n",
    "unique_segments = np.unique(cutout)\n",
    "unique_segments = unique_segments[unique_segments != 0]  # Remove background\n",
    "print(f\"\\nFound {len(unique_segments)} unique segments in this volume\")\n",
    "print(f\"Segment IDs: {unique_segments[:10]}...\")  # Show first 10\n",
    "\n",
    "# map the values to a contiguous range for better visualization\n",
    "if len(unique_segments) > 0:\n",
    "    segment_map = {seg_id: i+1 for i, seg_id in enumerate(unique_segments)}\n",
    "    vectorized_map = np.vectorize(lambda x: segment_map.get(x, 0))\n",
    "    cutout = vectorized_map(cutout)\n",
    "\n",
    "# Visualize a slice\n",
    "if cutout.shape[2] > 0:\n",
    "    mid_z = cutout.shape[2] // 2\n",
    "    plt.figure(figsize=(10, 10))\n",
    "    plt.imshow(cutout[:, :, mid_z].T, cmap='tab20', interpolation='nearest')\n",
    "    plt.title(f'Segmentation Cutout (Z-slice {mid_z})', fontsize=12, fontweight='bold')\n",
    "    plt.xlabel('X (voxels)')\n",
    "    plt.ylabel('Y (voxels)')\n",
    "    plt.colorbar(label='Root ID')\n",
    "    plt.tight_layout()\n",
    "    plt.show()"
   ]
  },
  {
   "cell_type": "markdown",
   "id": "acd120ac",
   "metadata": {},
   "source": [
    "## 7. Voxel-Level Operations\n",
    "\n",
    "Work with individual voxels that make up a neuron."
   ]
  },
  {
   "cell_type": "markdown",
   "id": "879a4481",
   "metadata": {},
   "source": [
    "### Getting All Voxels for a Neuron\n",
    "\n",
    "This retrieves all voxel coordinates that belong to a specific root ID within a specified region.\n",
    "\n",
    "**⚠️ Important: CloudVolume Coverage and Resolution**\n",
    "\n",
    "When working with voxel-level data, keep in mind:\n",
    "\n",
    "- **Limited Spatial Coverage**: CloudVolume contains only a subset (~360 x 344 x 257 µm) of the full CAVE dataset\n",
    "- **Resolution Mismatch**: CloudVolume's highest resolution (MIP 0) is 16x16x42 nm/voxel, which is 2x coarser than CAVE's base resolution (8x8x42 nm/voxel)\n",
    "- **Coordinate Systems**: CAVE uses nanometers, CloudVolume uses voxels at the current MIP level\n",
    "\n",
    "**Best Practices:**\n",
    "1. **Always provide explicit bounds** within CloudVolume coverage to avoid errors\n",
    "2. **Use small regions** (< 10 µm) for voxel queries - large regions can be slow\n",
    "3. **Test bounds first** using `get_segmentation_cutout` before fetching voxels\n",
    "4. **For full neurons**: Use L2 skeletons (`get_l2_skeleton`) or meshes (`get_mesh`) instead of voxels\n",
    "5. **Choose appropriate MIP**: Use MIP 1 for faster queries when precise resolution isn't critical"
   ]
  },
  {
   "cell_type": "code",
   "execution_count": 12,
   "id": "9e29eed0",
   "metadata": {},
   "outputs": [
    {
     "name": "stdout",
     "output_type": "stream",
     "text": [
      "Fetching voxels for root ID: 576460752681552812\n",
      "\n",
      "Bounds (in nm):\n",
      "  X: [329200, 333200]\n",
      "  Y: [91376, 95376]\n",
      "  Z: [112312, 113312]\n",
      "\n",
      "--- Getting voxels (without supervoxel mapping) ---\n",
      "\n",
      "✓ Retrieved 22,377 voxels\n",
      "  Voxel ranges:\n",
      "    X: [10314, 10400]\n",
      "    Y: [2856, 2957]\n",
      "    Z: [2674, 2697]\n",
      "\n",
      "--- Getting voxels (with supervoxel mapping) ---\n",
      "\n",
      "✓ Retrieved 22,377 voxels\n",
      "  Number of unique supervoxels: 457\n",
      "  Sample supervoxel IDs: [74732225463411215 74732225463419220 74732225463419226 74732225463419260\n",
      " 74732225463421800]\n"
     ]
    }
   ],
   "source": [
    "# Get voxels for one of our example neurons\n",
    "target_id = example_ids[0]\n",
    "print(f\"Fetching voxels for root ID: {target_id}\")\n",
    "\n",
    "# Define a small region around a known location within CloudVolume coverage\n",
    "# Using center_location from earlier (which we know is within bounds)\n",
    "bounds = np.array([\n",
    "    [center_location[0] - 2000, center_location[0] + 2000],  # 4 µm window in X\n",
    "    [center_location[1] - 2000, center_location[1] + 2000],  # 4 µm window in Y\n",
    "    [center_location[2] - 500, center_location[2] + 500]     # 1 µm window in Z\n",
    "])\n",
    "\n",
    "print(f\"\\nBounds (in nm):\")\n",
    "print(f\"  X: [{bounds[0,0]:.0f}, {bounds[0,1]:.0f}]\")\n",
    "print(f\"  Y: [{bounds[1,0]:.0f}, {bounds[1,1]:.0f}]\")\n",
    "print(f\"  Z: [{bounds[2,0]:.0f}, {bounds[2,1]:.0f}]\")\n",
    "\n",
    "# Method 1: Get voxels without supervoxel mapping (faster)\n",
    "print(\"\\n--- Getting voxels (without supervoxel mapping) ---\")\n",
    "voxels = cp.get_voxels(\n",
    "    target_id,\n",
    "    mip=1,  # Lower resolution for speed\n",
    "    bounds=bounds,\n",
    "    use_l2_chunks=False,  # Use cutout method\n",
    "    sv_map=False,  # Don't map to supervoxels\n",
    "    progress=True\n",
    ")\n",
    "\n",
    "if len(voxels) > 0:\n",
    "    print(f\"\\n✓ Retrieved {len(voxels):,} voxels\")\n",
    "    print(f\"  Voxel ranges:\")\n",
    "    print(f\"    X: [{voxels[:, 0].min()}, {voxels[:, 0].max()}]\")\n",
    "    print(f\"    Y: [{voxels[:, 1].min()}, {voxels[:, 1].max()}]\")\n",
    "    print(f\"    Z: [{voxels[:, 2].min()}, {voxels[:, 2].max()}]\")\n",
    "    \n",
    "    # Method 2: Get voxels WITH supervoxel mapping\n",
    "    print(\"\\n--- Getting voxels (with supervoxel mapping) ---\")\n",
    "    voxels_sv, sv_ids = cp.get_voxels(\n",
    "        target_id,\n",
    "        mip=1,\n",
    "        bounds=bounds,\n",
    "        use_l2_chunks=False,\n",
    "        sv_map=True,  # Map each voxel to its supervoxel ID\n",
    "        progress=True\n",
    "    )\n",
    "    \n",
    "    print(f\"\\n✓ Retrieved {len(voxels_sv):,} voxels\")\n",
    "    print(f\"  Number of unique supervoxels: {len(np.unique(sv_ids)):,}\")\n",
    "    print(f\"  Sample supervoxel IDs: {np.unique(sv_ids)[:5]}\")\n",
    "else:\n",
    "    print(\"\\n⚠️ No voxels found in this region\")\n",
    "    print(\"  This neuron may not have coverage in CloudVolume at this location\")\n"
   ]
  },
  {
   "cell_type": "markdown",
   "id": "76aaac9a",
   "metadata": {},
   "source": [
    "## 8. Spatial Coordinate Correction\n",
    "\n",
    "Sometimes your coordinates might not exactly hit the neuron you expect. You can \"snap\" them to the nearest voxel with the correct ID."
   ]
  },
  {
   "cell_type": "markdown",
   "id": "9a62ebd5",
   "metadata": {},
   "source": [
    "### Snapping Coordinates to Segmentation\n",
    "\n",
    "This is useful for:\n",
    "- Correcting slightly misaligned annotations\n",
    "- Ensuring synapses are on the correct neuron\n",
    "- Quality control of coordinate data"
   ]
  },
  {
   "cell_type": "code",
   "execution_count": 13,
   "id": "8e538fca",
   "metadata": {},
   "outputs": [
    {
     "name": "stdout",
     "output_type": "stream",
     "text": [
      "Target neuron: 576460752681552812\n",
      "\n",
      "Test locations (with larger offsets to show snapping):\n",
      "  Location 1: [330700.  92876. 112812.]\n",
      "  Location 2: [330700.  93876. 112812.]\n",
      "  Location 3: [331700.  92876. 112812.]\n",
      "\n",
      "Checking current segmentation:\n"
     ]
    },
    {
     "data": {
      "application/vnd.jupyter.widget-view+json": {
       "model_id": "858272bc30e84629a45aa7ff7afb318c",
       "version_major": 2,
       "version_minor": 0
      },
      "text/plain": [
       "Fetching supervoxels:   0%|          | 0/3 [00:00<?, ?it/s]"
      ]
     },
     "metadata": {},
     "output_type": "display_data"
    },
    {
     "data": {
      "application/vnd.jupyter.widget-view+json": {
       "model_id": "1be8895792bc4d39b61716cadef65315",
       "version_major": 2,
       "version_minor": 0
      },
      "text/plain": [
       "Fetching supervoxels:   0%|          | 0/1 [00:00<?, ?it/s]"
      ]
     },
     "metadata": {},
     "output_type": "display_data"
    },
    {
     "name": "stdout",
     "output_type": "stream",
     "text": [
      "\n",
      "Target segment at center: 576460752681552812\n",
      "  Location 1: segment 576460752681552812 ✓\n",
      "  Location 2: segment 576460752718331166 ✗\n",
      "  Location 3: segment 576460752551830489 ✗\n",
      "\n",
      "Attempting to snap all locations to segment: 576460752681552812\n"
     ]
    },
    {
     "data": {
      "application/vnd.jupyter.widget-view+json": {
       "model_id": "a4f9ab6ef7654b26973df1b1dc215a4c",
       "version_major": 2,
       "version_minor": 0
      },
      "text/plain": [
       "Fetching supervoxels:   0%|          | 0/3 [00:00<?, ?it/s]"
      ]
     },
     "metadata": {},
     "output_type": "display_data"
    },
    {
     "name": "stdout",
     "output_type": "stream",
     "text": [
      "2 of 3 locations needed to be snapped.\n",
      "Of these 0 locations could not be snapped - consider\n",
      "increasing `search_radius`.\n",
      "\n"
     ]
    },
    {
     "data": {
      "application/vnd.jupyter.widget-view+json": {
       "model_id": "9b7c1f27c8a947d9badadca2ecfb89e2",
       "version_major": 2,
       "version_minor": 0
      },
      "text/plain": [
       "Fetching supervoxels:   0%|          | 0/3 [00:00<?, ?it/s]"
      ]
     },
     "metadata": {},
     "output_type": "display_data"
    },
    {
     "name": "stdout",
     "output_type": "stream",
     "text": [
      "\n",
      "✓ After snapping: 3/3 on target segment\n",
      "\n",
      "Movement statistics:\n",
      "  Successfully snapped: 2/3\n",
      "  Mean movement: 233.14 nm\n",
      "  Max movement: 382.08 nm\n",
      "  Min movement: 84.19 nm\n",
      "\n",
      "💡 snap_to_id is useful for:\n",
      "  - Correcting manually annotated synapse locations\n",
      "  - Fixing coordinates from image registration\n",
      "  - Quality control of spatial annotations\n"
     ]
    }
   ],
   "source": [
    "# Demonstration of snap_to_id functionality\n",
    "# Note: This function requires CloudVolume coverage at the target locations\n",
    "\n",
    "target_id = example_ids[0]\n",
    "print(f\"Target neuron: {target_id}\")\n",
    "\n",
    "# Create test locations near a region we know has data\n",
    "# Make larger offsets to simulate imprecise annotations\n",
    "test_locs = np.array([\n",
    "    center_location + np.array([-500, -500, 0]),\n",
    "    center_location + np.array([-500, 500, 0]),\n",
    "    center_location + np.array([500, -500, 0])\n",
    "], dtype=float)\n",
    "\n",
    "print(f\"\\nTest locations (with larger offsets to show snapping):\")\n",
    "for i, loc in enumerate(test_locs):\n",
    "    print(f\"  Location {i+1}: {loc}\")\n",
    "\n",
    "# Check what segments these locations currently hit\n",
    "print(f\"\\nChecking current segmentation:\")\n",
    "current_segments = cp.locs_to_segments(test_locs, coordinates=\"nm\")\n",
    "\n",
    "# Find which segment is at the center location (our target)\n",
    "target_segment = cp.locs_to_segments([center_location], coordinates=\"nm\")[0]\n",
    "print(f\"\\nTarget segment at center: {target_segment}\")\n",
    "\n",
    "# Show what we got at test locations\n",
    "for i, seg in enumerate(current_segments):\n",
    "    match = \"✓\" if seg == target_segment else \"✗\"\n",
    "    print(f\"  Location {i+1}: segment {seg} {match}\")\n",
    "\n",
    "# Try to snap to the target segment\n",
    "print(f\"\\nAttempting to snap all locations to segment: {target_segment}\")\n",
    "\n",
    "snapped_locs = cp.snap_to_id(\n",
    "    test_locs,\n",
    "    id=target_segment,\n",
    "    search_radius=500,  # 500nm search radius\n",
    "    coordinates=\"nm\",\n",
    "    verbose=True\n",
    ")\n",
    "\n",
    "# Verify\n",
    "snapped_segments = cp.locs_to_segments(snapped_locs, coordinates=\"nm\")\n",
    "matches = snapped_segments == target_segment\n",
    "print(f\"\\n✓ After snapping: {np.sum(matches)}/{len(snapped_locs)} on target segment\")\n",
    "\n",
    "# Calculate movement\n",
    "movement = np.linalg.norm(snapped_locs - test_locs, axis=1)\n",
    "successful = movement > 0\n",
    "if np.sum(successful) > 0:\n",
    "    print(f\"\\nMovement statistics:\")\n",
    "    print(f\"  Successfully snapped: {np.sum(successful)}/{len(movement)}\")\n",
    "    print(f\"  Mean movement: {np.mean(movement[successful]):.2f} nm\")\n",
    "    print(f\"  Max movement: {np.max(movement):.2f} nm\")\n",
    "    print(f\"  Min movement: {np.min(movement[successful]):.2f} nm\")\n",
    "else:\n",
    "    print(\"\\nNo locations needed snapping (all already correct)\")\n",
    "\n",
    "print(\"\\n💡 snap_to_id is useful for:\")\n",
    "print(\"  - Correcting manually annotated synapse locations\")\n",
    "print(\"  - Fixing coordinates from image registration\")  \n",
    "print(\"  - Quality control of spatial annotations\")\n"
   ]
  },
  {
   "cell_type": "markdown",
   "id": "1bca8d1d",
   "metadata": {},
   "source": [
    "## 9. Temporal Analysis: Edit History\n",
    "\n",
    "CAVE segmentation is versioned - you can see how neurons have changed over time."
   ]
  },
  {
   "cell_type": "markdown",
   "id": "1f939743",
   "metadata": {},
   "source": [
    "### Getting the Lineage Graph\n",
    "\n",
    "The lineage graph shows all the edits (merges/splits) that led to the current version of a neuron."
   ]
  },
  {
   "cell_type": "code",
   "execution_count": 16,
   "id": "beed083a",
   "metadata": {},
   "outputs": [
    {
     "name": "stdout",
     "output_type": "stream",
     "text": [
      "Getting edit history for root ID: 576460752681552812\n",
      "\n",
      "Lineage graph statistics:\n",
      "  Number of versions: 134\n",
      "  Number of operations: 133\n",
      "\n",
      "Most recent versions (node IDs):\n",
      "  576460752759576858\n",
      "  576460752678850552\n",
      "  576460752681107663\n",
      "    Operation: 126\n",
      "  576460752726458923\n",
      "  576460752764825007\n"
     ]
    },
    {
     "name": "stderr",
     "output_type": "stream",
     "text": [
      "/var/folders/y6/xn2dyw2s14b79mrpmzrhykhc0000gn/T/ipykernel_46047/230392531.py:32: UserWarning: This figure includes Axes that are not compatible with tight_layout, so results might be incorrect.\n",
      "  plt.tight_layout()\n"
     ]
    },
    {
     "data": {
      "image/png": "[encoded data removed]",
      "text/plain": [
       "<Figure size 1200x800 with 1 Axes>"
      ]
     },
     "metadata": {},
     "output_type": "display_data"
    }
   ],
   "source": [
    "# Get lineage graph for a neuron\n",
    "target_id = example_ids[0]\n",
    "print(f\"Getting edit history for root ID: {target_id}\")\n",
    "\n",
    "try:\n",
    "    G = cp.get_lineage_graph(target_id)\n",
    "    \n",
    "    print(f\"\\nLineage graph statistics:\")\n",
    "    print(f\"  Number of versions: {len(G.nodes())}\")\n",
    "    print(f\"  Number of operations: {len(G.edges())}\")\n",
    "    \n",
    "    # Show the most recent versions\n",
    "    print(f\"\\nMost recent versions (node IDs):\")\n",
    "    recent_nodes = list(G.nodes())[-5:]  # Last 5 nodes\n",
    "    for node in recent_nodes:\n",
    "        print(f\"  {node}\")\n",
    "        if 'operation_id' in G.nodes[node]:\n",
    "            print(f\"    Operation: {G.nodes[node]['operation_id']}\")\n",
    "    \n",
    "    # Visualize the lineage graph\n",
    "    import networkx as nx\n",
    "    plt.figure(figsize=(12, 8))\n",
    "    pos = nx.spring_layout(G, k=1, iterations=1000)\n",
    "    nx.draw(G, pos, \n",
    "            node_color='lightblue', \n",
    "            node_size=100,\n",
    "            with_labels=False, \n",
    "            arrows=True,\n",
    "            edge_color='gray',\n",
    "            alpha=0.7)\n",
    "    plt.title(f'Lineage Graph for Root {target_id}', fontsize=14, fontweight='bold')\n",
    "    plt.tight_layout()\n",
    "    plt.show()\n",
    "    \n",
    "except Exception as e:\n",
    "    print(f\"\\nNote: Lineage graph requires proofreading history: {e}\")"
   ]
  },
  {
   "cell_type": "markdown",
   "id": "83ce9559",
   "metadata": {},
   "source": [
    "### Finding Common Time Points\n",
    "\n",
    "If you're analyzing multiple neurons, you might want to find a time when they all existed in a particular state."
   ]
  },
  {
   "cell_type": "code",
   "execution_count": 17,
   "id": "f9896218",
   "metadata": {},
   "outputs": [
    {
     "name": "stdout",
     "output_type": "stream",
     "text": [
      "Finding common time for 3 neurons...\n",
      "\n",
      "Common time found: 2025-09-01 15:02:36.196459+00:00\n",
      "  Date: 2025-09-01\n",
      "  Time: 15:02:36\n",
      "\n",
      "You can now query the state of these neurons at this time:\n",
      "  cp.locs_to_segments(locations, timestamp=1756738956)\n"
     ]
    }
   ],
   "source": [
    "# Find a time when multiple neurons co-existed\n",
    "test_ids = example_ids[:3]\n",
    "print(f\"Finding common time for {len(test_ids)} neurons...\")\n",
    "\n",
    "try:\n",
    "    common_time = cp.find_common_time(test_ids)\n",
    "    print(f\"\\nCommon time found: {common_time}\")\n",
    "    print(f\"  Date: {common_time.strftime('%Y-%m-%d')}\")\n",
    "    print(f\"  Time: {common_time.strftime('%H:%M:%S')}\")\n",
    "    \n",
    "    # You can use this timestamp to query historical states\n",
    "    print(\"\\nYou can now query the state of these neurons at this time:\")\n",
    "    print(f\"  cp.locs_to_segments(locations, timestamp={int(common_time.timestamp())})\")\n",
    "    \n",
    "except ValueError as e:\n",
    "    print(f\"\\nThese neurons never co-existed: {e}\")\n",
    "except Exception as e:\n",
    "    print(f\"\\nNote: {e}\")"
   ]
  },
  {
   "cell_type": "markdown",
   "id": "f2d0db59",
   "metadata": {},
   "source": [
    "## 10. Practical Workflows\n",
    "\n",
    "Let's combine these tools in some practical workflows."
   ]
  },
  {
   "cell_type": "markdown",
   "id": "fcb34c4c",
   "metadata": {},
   "source": [
    "### Workflow 1: Validating and Updating a List of Neurons"
   ]
  },
  {
   "cell_type": "code",
   "execution_count": 18,
   "id": "741afd77",
   "metadata": {},
   "outputs": [
    {
     "name": "stdout",
     "output_type": "stream",
     "text": [
      "Working with 3 neurons from previous analysis\n",
      "\n",
      "1. Checking if IDs are valid...\n",
      "   ✓ 3/3 are valid root IDs\n",
      "\n",
      "2. Checking if IDs are current...\n",
      "   ✓ 3/3 are up-to-date\n",
      "\n",
      "3. Updating outdated IDs...\n"
     ]
    },
    {
     "name": "stderr",
     "output_type": "stream",
     "text": [
      "2025-10-04 16:13:09 - WARNING - Multiple supervoxel IDs found for 130 root IDs. Using first occurrence for each.\n"
     ]
    },
    {
     "name": "stdout",
     "output_type": "stream",
     "text": [
      "\n",
      "4. Getting supervoxels for stable tracking...\n",
      "   ✓ Stored 3 neurons with their supervoxels\n",
      "\n",
      "5. Final results:\n"
     ]
    },
    {
     "data": {
      "application/vnd.microsoft.datawrangler.viewer.v0+json": {
       "columns": [
        {
         "name": "index",
         "rawType": "int64",
         "type": "integer"
        },
        {
         "name": "old_id",
         "rawType": "int64",
         "type": "integer"
        },
        {
         "name": "new_id",
         "rawType": "int64",
         "type": "integer"
        },
        {
         "name": "changed",
         "rawType": "bool",
         "type": "boolean"
        },
        {
         "name": "confidence",
         "rawType": "float64",
         "type": "float"
        }
       ],
       "ref": "74ccd621-2724-4e06-ab19-b249fb95612b",
       "rows": [
        [
         "0",
         "576460752681552812",
         "576460752681552812",
         "False",
         "1.0"
        ],
        [
         "1",
         "576460752773799604",
         "576460752773799604",
         "False",
         "1.0"
        ],
        [
         "2",
         "576460752656800770",
         "576460752656800770",
         "False",
         "1.0"
        ]
       ],
       "shape": {
        "columns": 4,
        "rows": 3
       }
      },
      "text/html": [
       "<div>\n",
       "<style scoped>\n",
       "    .dataframe tbody tr th:only-of-type {\n",
       "        vertical-align: middle;\n",
       "    }\n",
       "\n",
       "    .dataframe tbody tr th {\n",
       "        vertical-align: top;\n",
       "    }\n",
       "\n",
       "    .dataframe thead th {\n",
       "        text-align: right;\n",
       "    }\n",
       "</style>\n",
       "<table border=\"1\" class=\"dataframe\">\n",
       "  <thead>\n",
       "    <tr style=\"text-align: right;\">\n",
       "      <th></th>\n",
       "      <th>old_id</th>\n",
       "      <th>new_id</th>\n",
       "      <th>changed</th>\n",
       "      <th>confidence</th>\n",
       "    </tr>\n",
       "  </thead>\n",
       "  <tbody>\n",
       "    <tr>\n",
       "      <th>0</th>\n",
       "      <td>576460752681552812</td>\n",
       "      <td>576460752681552812</td>\n",
       "      <td>False</td>\n",
       "      <td>1.0</td>\n",
       "    </tr>\n",
       "    <tr>\n",
       "      <th>1</th>\n",
       "      <td>576460752773799604</td>\n",
       "      <td>576460752773799604</td>\n",
       "      <td>False</td>\n",
       "      <td>1.0</td>\n",
       "    </tr>\n",
       "    <tr>\n",
       "      <th>2</th>\n",
       "      <td>576460752656800770</td>\n",
       "      <td>576460752656800770</td>\n",
       "      <td>False</td>\n",
       "      <td>1.0</td>\n",
       "    </tr>\n",
       "  </tbody>\n",
       "</table>\n",
       "</div>"
      ],
      "text/plain": [
       "               old_id              new_id  changed  confidence\n",
       "0  576460752681552812  576460752681552812    False         1.0\n",
       "1  576460752773799604  576460752773799604    False         1.0\n",
       "2  576460752656800770  576460752656800770    False         1.0"
      ]
     },
     "metadata": {},
     "output_type": "display_data"
    },
    {
     "name": "stdout",
     "output_type": "stream",
     "text": [
      "\n",
      "Summary: 0 neurons were updated\n"
     ]
    }
   ],
   "source": [
    "# Scenario: You have a list of neurons from an old analysis\n",
    "old_neuron_list = example_ids[:10]\n",
    "\n",
    "print(f\"Working with {len(old_neuron_list)} neurons from previous analysis\")\n",
    "\n",
    "# Step 1: Check validity\n",
    "print(\"\\n1. Checking if IDs are valid...\")\n",
    "is_valid = cp.is_valid_root(old_neuron_list)\n",
    "valid_ids = old_neuron_list[is_valid]\n",
    "print(f\"   ✓ {np.sum(is_valid)}/{len(old_neuron_list)} are valid root IDs\")\n",
    "\n",
    "if len(valid_ids) < len(old_neuron_list):\n",
    "    print(f\"   ✗ {len(old_neuron_list) - len(valid_ids)} invalid IDs removed\")\n",
    "\n",
    "# Step 2: Check if up-to-date\n",
    "print(\"\\n2. Checking if IDs are current...\")\n",
    "is_latest = cp.is_latest_roots(valid_ids)\n",
    "print(f\"   ✓ {np.sum(is_latest)}/{len(valid_ids)} are up-to-date\")\n",
    "\n",
    "# Step 3: Update outdated IDs\n",
    "print(\"\\n3. Updating outdated IDs...\")\n",
    "update_result = cp.update_ids(valid_ids, progress=False)\n",
    "updated_ids = update_result['new_id'].values\n",
    "\n",
    "# Step 4: Get supervoxels for stable tracking\n",
    "print(\"\\n4. Getting supervoxels for stable tracking...\")\n",
    "sv_dict = cp.roots_to_supervoxels(updated_ids[:3], progress=False)  # Just first 3 for demo\n",
    "print(f\"   ✓ Stored {len(sv_dict)} neurons with their supervoxels\")\n",
    "\n",
    "# Step 5: Save results\n",
    "result_df = pd.DataFrame({\n",
    "    'old_id': update_result['old_id'],\n",
    "    'new_id': update_result['new_id'],\n",
    "    'changed': update_result['changed'],\n",
    "    'confidence': update_result['confidence']\n",
    "})\n",
    "\n",
    "print(\"\\n5. Final results:\")\n",
    "display(result_df.head(10))\n",
    "print(f\"\\nSummary: {result_df['changed'].sum()} neurons were updated\")"
   ]
  },
  {
   "cell_type": "markdown",
   "id": "bebd3754",
   "metadata": {},
   "source": [
    "### Workflow 2: Quality Control for Synapse Annotations"
   ]
  },
  {
   "cell_type": "code",
   "execution_count": 19,
   "id": "c6b72897",
   "metadata": {},
   "outputs": [
    {
     "data": {
      "application/vnd.jupyter.widget-view+json": {
       "model_id": "7430b9e019a74939a8084eae54658163",
       "version_major": 2,
       "version_minor": 0
      },
      "text/plain": [
       "Fetching supervoxels:   0%|          | 0/1 [00:00<?, ?it/s]"
      ]
     },
     "metadata": {},
     "output_type": "display_data"
    },
    {
     "name": "stdout",
     "output_type": "stream",
     "text": [
      "Target neuron at center location: 576460752681552812\n",
      "\n",
      "Quality control for 5 synapses on neuron 576460752681552812\n",
      "\n",
      "1. Checking current segmentation at synapse locations...\n"
     ]
    },
    {
     "data": {
      "application/vnd.jupyter.widget-view+json": {
       "model_id": "9aa8dcbf905247e39bb4415697527a18",
       "version_major": 2,
       "version_minor": 0
      },
      "text/plain": [
       "Fetching supervoxels:   0%|          | 0/5 [00:00<?, ?it/s]"
      ]
     },
     "metadata": {},
     "output_type": "display_data"
    },
    {
     "name": "stdout",
     "output_type": "stream",
     "text": [
      "   3/5 synapses on correct neuron\n",
      "\n",
      "2. Correcting misaligned synapses...\n"
     ]
    },
    {
     "data": {
      "application/vnd.jupyter.widget-view+json": {
       "model_id": "0834b41b8860440eae0057d7f955f2d2",
       "version_major": 2,
       "version_minor": 0
      },
      "text/plain": [
       "Fetching supervoxels:   0%|          | 0/5 [00:00<?, ?it/s]"
      ]
     },
     "metadata": {},
     "output_type": "display_data"
    },
    {
     "data": {
      "application/vnd.jupyter.widget-view+json": {
       "model_id": "4e44b8ee4ec247d7bb92542cb7e4e0f4",
       "version_major": 2,
       "version_minor": 0
      },
      "text/plain": [
       "Fetching supervoxels:   0%|          | 0/5 [00:00<?, ?it/s]"
      ]
     },
     "metadata": {},
     "output_type": "display_data"
    },
    {
     "name": "stdout",
     "output_type": "stream",
     "text": [
      "   ✓ 5/5 now on correct neuron\n",
      "\n",
      "3. Movement statistics:\n",
      "   Mean: 37.95 nm\n",
      "   Max: 129.63 nm\n",
      "\n",
      "4. QC results:\n"
     ]
    },
    {
     "data": {
      "application/vnd.microsoft.datawrangler.viewer.v0+json": {
       "columns": [
        {
         "name": "index",
         "rawType": "int64",
         "type": "integer"
        },
        {
         "name": "synapse_id",
         "rawType": "int64",
         "type": "integer"
        },
        {
         "name": "original_x",
         "rawType": "float64",
         "type": "float"
        },
        {
         "name": "original_y",
         "rawType": "float64",
         "type": "float"
        },
        {
         "name": "original_z",
         "rawType": "float64",
         "type": "float"
        },
        {
         "name": "corrected_x",
         "rawType": "float64",
         "type": "float"
        },
        {
         "name": "corrected_y",
         "rawType": "float64",
         "type": "float"
        },
        {
         "name": "corrected_z",
         "rawType": "float64",
         "type": "float"
        },
        {
         "name": "movement_nm",
         "rawType": "float64",
         "type": "float"
        },
        {
         "name": "original_match",
         "rawType": "bool",
         "type": "boolean"
        },
        {
         "name": "corrected_match",
         "rawType": "bool",
         "type": "boolean"
        }
       ],
       "ref": "38eab9bc-1765-49aa-a2c8-bfb95bfa31f7",
       "rows": [
        [
         "0",
         "0",
         "330900.0",
         "93076.0",
         "112812.0",
         "330912.0",
         "93104.0",
         "112938.0",
         "129.63024338479042",
         "False",
         "True"
        ],
        [
         "1",
         "1",
         "330900.0",
         "93676.0",
         "112812.0",
         "330896.0",
         "93616.0",
         "112812.0",
         "60.13318551349163",
         "False",
         "True"
        ],
        [
         "2",
         "2",
         "331500.0",
         "93076.0",
         "112812.0",
         "331500.0",
         "93076.0",
         "112812.0",
         "0.0",
         "True",
         "True"
        ],
        [
         "3",
         "3",
         "331500.0",
         "93676.0",
         "112812.0",
         "331500.0",
         "93676.0",
         "112812.0",
         "0.0",
         "True",
         "True"
        ],
        [
         "4",
         "4",
         "331200.0",
         "93376.0",
         "112812.0",
         "331200.0",
         "93376.0",
         "112812.0",
         "0.0",
         "True",
         "True"
        ]
       ],
       "shape": {
        "columns": 10,
        "rows": 5
       }
      },
      "text/html": [
       "<div>\n",
       "<style scoped>\n",
       "    .dataframe tbody tr th:only-of-type {\n",
       "        vertical-align: middle;\n",
       "    }\n",
       "\n",
       "    .dataframe tbody tr th {\n",
       "        vertical-align: top;\n",
       "    }\n",
       "\n",
       "    .dataframe thead th {\n",
       "        text-align: right;\n",
       "    }\n",
       "</style>\n",
       "<table border=\"1\" class=\"dataframe\">\n",
       "  <thead>\n",
       "    <tr style=\"text-align: right;\">\n",
       "      <th></th>\n",
       "      <th>synapse_id</th>\n",
       "      <th>original_x</th>\n",
       "      <th>original_y</th>\n",
       "      <th>original_z</th>\n",
       "      <th>corrected_x</th>\n",
       "      <th>corrected_y</th>\n",
       "      <th>corrected_z</th>\n",
       "      <th>movement_nm</th>\n",
       "      <th>original_match</th>\n",
       "      <th>corrected_match</th>\n",
       "    </tr>\n",
       "  </thead>\n",
       "  <tbody>\n",
       "    <tr>\n",
       "      <th>0</th>\n",
       "      <td>0</td>\n",
       "      <td>330900.0</td>\n",
       "      <td>93076.0</td>\n",
       "      <td>112812.0</td>\n",
       "      <td>330912.0</td>\n",
       "      <td>93104.0</td>\n",
       "      <td>112938.0</td>\n",
       "      <td>129.630243</td>\n",
       "      <td>False</td>\n",
       "      <td>True</td>\n",
       "    </tr>\n",
       "    <tr>\n",
       "      <th>1</th>\n",
       "      <td>1</td>\n",
       "      <td>330900.0</td>\n",
       "      <td>93676.0</td>\n",
       "      <td>112812.0</td>\n",
       "      <td>330896.0</td>\n",
       "      <td>93616.0</td>\n",
       "      <td>112812.0</td>\n",
       "      <td>60.133186</td>\n",
       "      <td>False</td>\n",
       "      <td>True</td>\n",
       "    </tr>\n",
       "    <tr>\n",
       "      <th>2</th>\n",
       "      <td>2</td>\n",
       "      <td>331500.0</td>\n",
       "      <td>93076.0</td>\n",
       "      <td>112812.0</td>\n",
       "      <td>331500.0</td>\n",
       "      <td>93076.0</td>\n",
       "      <td>112812.0</td>\n",
       "      <td>0.000000</td>\n",
       "      <td>True</td>\n",
       "      <td>True</td>\n",
       "    </tr>\n",
       "    <tr>\n",
       "      <th>3</th>\n",
       "      <td>3</td>\n",
       "      <td>331500.0</td>\n",
       "      <td>93676.0</td>\n",
       "      <td>112812.0</td>\n",
       "      <td>331500.0</td>\n",
       "      <td>93676.0</td>\n",
       "      <td>112812.0</td>\n",
       "      <td>0.000000</td>\n",
       "      <td>True</td>\n",
       "      <td>True</td>\n",
       "    </tr>\n",
       "    <tr>\n",
       "      <th>4</th>\n",
       "      <td>4</td>\n",
       "      <td>331200.0</td>\n",
       "      <td>93376.0</td>\n",
       "      <td>112812.0</td>\n",
       "      <td>331200.0</td>\n",
       "      <td>93376.0</td>\n",
       "      <td>112812.0</td>\n",
       "      <td>0.000000</td>\n",
       "      <td>True</td>\n",
       "      <td>True</td>\n",
       "    </tr>\n",
       "  </tbody>\n",
       "</table>\n",
       "</div>"
      ],
      "text/plain": [
       "   synapse_id  original_x  original_y  original_z  corrected_x  corrected_y  \\\n",
       "0           0    330900.0     93076.0    112812.0     330912.0      93104.0   \n",
       "1           1    330900.0     93676.0    112812.0     330896.0      93616.0   \n",
       "2           2    331500.0     93076.0    112812.0     331500.0      93076.0   \n",
       "3           3    331500.0     93676.0    112812.0     331500.0      93676.0   \n",
       "4           4    331200.0     93376.0    112812.0     331200.0      93376.0   \n",
       "\n",
       "   corrected_z  movement_nm  original_match  corrected_match  \n",
       "0     112938.0   129.630243           False             True  \n",
       "1     112812.0    60.133186           False             True  \n",
       "2     112812.0     0.000000            True             True  \n",
       "3     112812.0     0.000000            True             True  \n",
       "4     112812.0     0.000000            True             True  "
      ]
     },
     "metadata": {},
     "output_type": "display_data"
    }
   ],
   "source": [
    "# Scenario: You have synapse locations and want to verify they're on the right neurons\n",
    "\n",
    "# Get the actual segment at center_location (which we know has coverage)\n",
    "target_neuron = cp.locs_to_segments([center_location], coordinates=\"nm\")[0]\n",
    "print(f\"Target neuron at center location: {target_neuron}\")\n",
    "\n",
    "# Simulated synapse locations (in practice, these come from your data)\n",
    "synapse_locations = np.array([\n",
    "    center_location + np.array([-300, -300, 0]),\n",
    "    center_location + np.array([-300, 300, 0]),\n",
    "    center_location + np.array([300, -300, 0]),\n",
    "    center_location + np.array([300, 300, 0]),\n",
    "    center_location + np.array([0, 0, 0])\n",
    "], dtype=float)\n",
    "\n",
    "print(f\"\\nQuality control for {len(synapse_locations)} synapses on neuron {target_neuron}\")\n",
    "\n",
    "# Step 1: Check which neurons these locations currently hit\n",
    "print(\"\\n1. Checking current segmentation at synapse locations...\")\n",
    "current_roots = cp.locs_to_segments(synapse_locations, coordinates=\"nm\")\n",
    "\n",
    "matches = current_roots == target_neuron\n",
    "print(f\"   {np.sum(matches)}/{len(synapse_locations)} synapses on correct neuron\")\n",
    "\n",
    "# Step 2: Snap misaligned synapses\n",
    "if not np.all(matches):\n",
    "    print(\"\\n2. Correcting misaligned synapses...\")\n",
    "    corrected_locs = cp.snap_to_id(\n",
    "        synapse_locations,\n",
    "        id=target_neuron,\n",
    "        search_radius=500,\n",
    "        coordinates=\"nm\",\n",
    "        verbose=False\n",
    "    )\n",
    "    \n",
    "    # Verify corrections\n",
    "    corrected_roots = cp.locs_to_segments(corrected_locs, coordinates=\"nm\")\n",
    "    corrected_matches = corrected_roots == target_neuron\n",
    "    print(f\"   ✓ {np.sum(corrected_matches)}/{len(synapse_locations)} now on correct neuron\")\n",
    "    \n",
    "    # Calculate movement - ensure proper float arrays\n",
    "    movement = np.linalg.norm(\n",
    "        np.asarray(corrected_locs, dtype=float) - np.asarray(synapse_locations, dtype=float), \n",
    "        axis=1\n",
    "    )\n",
    "    print(f\"\\n3. Movement statistics:\")\n",
    "    print(f\"   Mean: {np.mean(movement):.2f} nm\")\n",
    "    print(f\"   Max: {np.max(movement):.2f} nm\")\n",
    "    \n",
    "    # Create results DataFrame\n",
    "    synapse_qc = pd.DataFrame({\n",
    "        'synapse_id': range(len(synapse_locations)),\n",
    "        'original_x': synapse_locations[:, 0],\n",
    "        'original_y': synapse_locations[:, 1],\n",
    "        'original_z': synapse_locations[:, 2],\n",
    "        'corrected_x': corrected_locs[:, 0],\n",
    "        'corrected_y': corrected_locs[:, 1],\n",
    "        'corrected_z': corrected_locs[:, 2],\n",
    "        'movement_nm': movement,\n",
    "        'original_match': matches,\n",
    "        'corrected_match': corrected_matches\n",
    "    })\n",
    "    \n",
    "    print(\"\\n4. QC results:\")\n",
    "    display(synapse_qc)\n",
    "else:\n",
    "    print(\"\\n✓ All synapses already on correct neuron!\")"
   ]
  },
  {
   "cell_type": "markdown",
   "id": "8d640a27",
   "metadata": {},
   "source": [
    "### Workflow 3: Analyzing Segmentation in a Region"
   ]
  },
  {
   "cell_type": "code",
   "execution_count": 20,
   "id": "a1e2013d",
   "metadata": {},
   "outputs": [
    {
     "name": "stdout",
     "output_type": "stream",
     "text": [
      "Analyzing segmentation in region:\n",
      "  X: [329200. 333200.]\n",
      "  Y: [91376. 95376.]\n",
      "  Z: [112712. 112912.]\n",
      "\n",
      "1. Fetching segmentation cutout...\n",
      "   ✓ Cutout shape: (124, 124, 4)\n",
      "\n",
      "2. Found 311 neurons in region\n",
      "\n",
      "3. Fetching neuron annotations...\n",
      "   ✓ Retrieved annotations for 15/311 neurons\n",
      "   ✗ 296 neurons without annotations added as 'Unknown'\n",
      "\n",
      "4. Cell class distribution:\n",
      "cell_class\n",
      "Unknown                        310\n",
      "olfactory_projection_neuron      1\n",
      "Name: count, dtype: int64\n"
     ]
    },
    {
     "data": {
      "image/png": "[encoded data removed]",
      "text/plain": [
       "<Figure size 1200x600 with 1 Axes>"
      ]
     },
     "metadata": {},
     "output_type": "display_data"
    },
    {
     "name": "stdout",
     "output_type": "stream",
     "text": [
      "\n",
      "5. Volume analysis:\n",
      "   Root 576460752499537597: 38 voxels = 0.00 µm³\n",
      "   Root 576460752502187549: 36 voxels = 0.00 µm³\n",
      "   Root 576460752502203933: 378 voxels = 0.02 µm³\n",
      "   Root 576460752502220317: 55 voxels = 0.00 µm³\n",
      "   Root 576460752502236445: 423 voxels = 0.02 µm³\n"
     ]
    }
   ],
   "source": [
    "# Scenario: Analyze all neurons in a specific brain region\n",
    "region_bbox = np.array([\n",
    "    [center_location[0] - 2000, center_location[0] + 2000],\n",
    "    [center_location[1] - 2000, center_location[1] + 2000],\n",
    "    [center_location[2] - 100, center_location[2] + 100]\n",
    "])\n",
    "\n",
    "print(f\"Analyzing segmentation in region:\")\n",
    "print(f\"  X: {region_bbox[0]}\")\n",
    "print(f\"  Y: {region_bbox[1]}\")\n",
    "print(f\"  Z: {region_bbox[2]}\")\n",
    "\n",
    "# Step 1: Get segmentation cutout\n",
    "print(\"\\n1. Fetching segmentation cutout...\")\n",
    "cutout, resolution, offset = cp.get_segmentation_cutout(\n",
    "    region_bbox,\n",
    "    root_ids=True,\n",
    "    mip=1,\n",
    "    coordinates=\"nm\"\n",
    ")\n",
    "print(f\"   ✓ Cutout shape: {cutout.shape}\")\n",
    "\n",
    "# Step 2: Find all neurons in this region\n",
    "unique_roots = np.unique(cutout)\n",
    "unique_roots = unique_roots[unique_roots != 0]\n",
    "print(f\"\\n2. Found {len(unique_roots)} neurons in region\")\n",
    "\n",
    "# Step 3: Get annotations for these neurons\n",
    "if len(unique_roots) > 0 and len(unique_roots) <= 500:  # Limit to reasonable number\n",
    "    print(\"\\n3. Fetching neuron annotations...\")\n",
    "    region_annotations = cp.get_annotations(unique_roots).groupby('root_id').first().reset_index()\n",
    "    # annotations may not be available for all neurons\n",
    "    print(f\"   ✓ Retrieved annotations for {len(region_annotations)}/{len(unique_roots)} neurons\")\n",
    "    # fill in missing annotations\n",
    "    region_annotations = region_annotations[['root_id', 'cell_class', 'cell_type', 'side']]\n",
    "    region_annotations.fillna('Unknown', inplace=True)\n",
    "    # convert root_id to int for consistency\n",
    "    region_annotations['root_id'] = region_annotations['root_id'].astype(np.uint64)\n",
    "\n",
    "    # add neurons without annotations\n",
    "    missing_ids = set(unique_roots) - set(region_annotations['root_id'])\n",
    "    if missing_ids:\n",
    "        missing_df = pd.DataFrame({'root_id': list(missing_ids), 'cell_class': 'Unknown', 'cell_type': 'Unknown', 'side': 'Unknown'})\n",
    "        region_annotations = pd.concat([region_annotations, missing_df], ignore_index=True)\n",
    "        print(f\"   ✗ {len(missing_ids)} neurons without annotations added as 'Unknown'\")\n",
    "\n",
    "    # Analyze cell classes\n",
    "    print(\"\\n4. Cell class distribution:\")\n",
    "    cell_class_counts = region_annotations['cell_class'].value_counts()\n",
    "    print(cell_class_counts)\n",
    "    \n",
    "    # Visualize\n",
    "    plt.figure(figsize=(12, 6))\n",
    "    cell_class_counts.plot(kind='bar', color='steelblue')\n",
    "    plt.title('Cell Classes in Region', fontsize=12, fontweight='bold')\n",
    "    plt.xlabel('Cell Class')\n",
    "    plt.ylabel('Count')\n",
    "    plt.xticks(rotation=45, ha='right')\n",
    "    plt.tight_layout()\n",
    "    plt.show()\n",
    "    \n",
    "    # Calculate volume occupied by each neuron\n",
    "    print(\"\\n5. Volume analysis:\")\n",
    "    for root_id in unique_roots[:5]:  # Just first 5\n",
    "        voxel_count = np.sum(cutout == root_id)\n",
    "        volume_nm3 = voxel_count * np.prod(resolution)\n",
    "        volume_um3 = volume_nm3 / 1e9\n",
    "        print(f\"   Root {root_id}: {voxel_count} voxels = {volume_um3:.2f} µm³\")\n",
    "else:\n",
    "    print(f\"\\nNote: Too many neurons ({len(unique_roots)}) for detailed analysis\")"
   ]
  },
  {
   "cell_type": "markdown",
   "id": "4adfc63e",
   "metadata": {},
   "source": [
    "## 11. Performance Tips and Best Practices"
   ]
  },
  {
   "cell_type": "markdown",
   "id": "1c9b2579",
   "metadata": {},
   "source": [
    "### Tip 1: Cache Supervoxels for Faster Updates\n",
    "\n",
    "Supervoxels never change, so caching them enables instant ID updates."
   ]
  },
  {
   "cell_type": "code",
   "execution_count": 21,
   "id": "b0fb4e16",
   "metadata": {},
   "outputs": [
    {
     "name": "stdout",
     "output_type": "stream",
     "text": [
      "Update without supervoxels: 0.18s\n",
      "\n",
      "Caching supervoxels...\n",
      "Update with supervoxels: 0.18s\n",
      "\n",
      "Speedup: 1.0x faster with supervoxels!\n"
     ]
    }
   ],
   "source": [
    "import time\n",
    "\n",
    "neurons_to_track = cp.NeuronCriteria(cell_class='olfactory_projection_neuron', proofread=True).get_roots()[:20]\n",
    "\n",
    "# Slow: Update without supervoxels\n",
    "start = time.time()\n",
    "result_slow = cp.update_ids(neurons_to_track, use_annotations=False, progress=False)\n",
    "time_slow = time.time() - start\n",
    "print(f\"Update without supervoxels: {time_slow:.2f}s\")\n",
    "\n",
    "# Fast: Get and cache supervoxels once\n",
    "print(\"\\nCaching supervoxels...\")\n",
    "sv_cache = cp.roots_to_supervoxels(neurons_to_track, progress=False)\n",
    "\n",
    "# Now use them for updates\n",
    "start = time.time()\n",
    "supervoxels_list = [sv_cache[int(rid)][0] for rid in neurons_to_track]  # Use first supervoxel\n",
    "result_fast = cp.update_ids(neurons_to_track, supervoxels=supervoxels_list, progress=False)\n",
    "time_fast = time.time() - start\n",
    "print(f\"Update with supervoxels: {time_fast:.2f}s\")\n",
    "\n",
    "print(f\"\\nSpeedup: {time_slow/time_fast:.1f}x faster with supervoxels!\")"
   ]
  },
  {
   "cell_type": "markdown",
   "id": "fd3b8b46",
   "metadata": {},
   "source": [
    "### Tip 2: Use Appropriate MIP Levels\n",
    "\n",
    "Higher MIP = lower resolution = faster queries."
   ]
  },
  {
   "cell_type": "code",
   "execution_count": 22,
   "id": "166945d7",
   "metadata": {},
   "outputs": [
    {
     "name": "stdout",
     "output_type": "stream",
     "text": [
      "Recommended MIP levels:\n",
      "  mip=0 (highest res): Precise synapse locations, detailed tracing\n",
      "  mip=1 (lowest res): General morphology, large structures\n",
      "\n",
      "mip=0: (250, 250, 4) in 2.01s\n",
      "\n",
      "mip=1: (124, 124, 4) in 1.16s\n"
     ]
    }
   ],
   "source": [
    "# For different use cases, choose appropriate resolution:\n",
    "\n",
    "print(\"Recommended MIP levels:\")\n",
    "print(\"  mip=0 (highest res): Precise synapse locations, detailed tracing\")\n",
    "print(\"  mip=1 (lowest res): General morphology, large structures\")\n",
    "\n",
    "# Example: Compare query times\n",
    "test_bbox = np.array([\n",
    "    [center_location[0] - 2000, center_location[0] + 2000],\n",
    "    [center_location[1] - 2000, center_location[1] + 2000],\n",
    "    [center_location[2] - 100, center_location[2] + 100]\n",
    "])\n",
    "\n",
    "for mip in [0, 1]:\n",
    "    start = time.time()\n",
    "    cutout, _, _ = cp.get_segmentation_cutout(test_bbox, mip=mip, coordinates=\"nm\")\n",
    "    elapsed = time.time() - start\n",
    "    print(f\"\\nmip={mip}: {cutout.shape} in {elapsed:.2f}s\")"
   ]
  },
  {
   "cell_type": "markdown",
   "id": "6555a14a",
   "metadata": {},
   "source": [
    "### Tip 3: Batch Operations\n",
    "\n",
    "Always process multiple coordinates/IDs in a single call."
   ]
  },
  {
   "cell_type": "code",
   "execution_count": 25,
   "id": "270a3b94",
   "metadata": {},
   "outputs": [
    {
     "name": "stdout",
     "output_type": "stream",
     "text": [
      "Loop approach (10 locations): 10.00s\n",
      "Batch approach (10 locations): 9.71s\n",
      "\n",
      "Speedup: 1.0x faster with batching!\n",
      "\n",
      "💡 Always use batch operations for multiple queries!\n"
     ]
    }
   ],
   "source": [
    "# Generate test data\n",
    "n_locations = 100\n",
    "test_locations = np.random.randint(\n",
    "    low=[center_location[0]-5000, center_location[1]-5000, center_location[2]-500],\n",
    "    high=[center_location[0]+5000, center_location[1]+5000, center_location[2]+500],\n",
    "    size=(n_locations, 3)\n",
    ")\n",
    "\n",
    "# Bad: Loop over locations\n",
    "start = time.time()\n",
    "results_slow = []\n",
    "for loc in test_locations[:10]:  # Just 10 for demo\n",
    "    result = cp.locs_to_segments([loc], coordinates=\"nm\", progress=False)\n",
    "    results_slow.append(result[0])\n",
    "time_slow = time.time() - start\n",
    "print(f\"Loop approach (10 locations): {time_slow:.2f}s\")\n",
    "\n",
    "# Good: Batch processing\n",
    "start = time.time()\n",
    "results_fast = cp.locs_to_segments(test_locations[:10], coordinates=\"nm\", progress=False)\n",
    "time_fast = time.time() - start\n",
    "print(f\"Batch approach (10 locations): {time_fast:.2f}s\")\n",
    "\n",
    "print(f\"\\nSpeedup: {time_slow/time_fast:.1f}x faster with batching!\")\n",
    "print(\"\\n💡 Always use batch operations for multiple queries!\")"
   ]
  },
  {
   "cell_type": "markdown",
   "id": "f0b5992e",
   "metadata": {},
   "source": [
    "## Summary\n",
    "\n",
    "In this comprehensive deep dive, you learned:\n",
    "\n",
    "✅ **Hierarchical segmentation** - Root IDs, L2 chunks, and supervoxels  \n",
    "✅ **Bidirectional conversions** - Between roots and supervoxels  \n",
    "✅ **Location-based queries** - Finding segments at specific coordinates  \n",
    "✅ **ID management** - Validating and updating root IDs  \n",
    "✅ **Neuron mapping** - Connecting spatial reconstructions to segmentation  \n",
    "✅ **Volume operations** - Extracting segmentation cutouts  \n",
    "✅ **Voxel-level data** - Working with individual voxels  \n",
    "✅ **Coordinate correction** - Snapping locations to correct segments  \n",
    "✅ **Temporal analysis** - Understanding edit history and lineage  \n",
    "✅ **Practical workflows** - Real-world analysis pipelines  \n",
    "✅ **Performance optimization** - Tips for efficient queries\n",
    "\n",
    "### Key Takeaways\n",
    "\n",
    "1. **Supervoxels are stable** - Cache them for reliable tracking across edits\n",
    "2. **Root IDs can change** - Always validate and update old IDs\n",
    "3. **Use appropriate resolution** - Balance speed vs. precision with MIP levels\n",
    "4. **Batch operations** - Process multiple items together for better performance\n",
    "5. **Location-based queries** - Essential for connecting spatial data to segmentation\n",
    "6. **Temporal awareness** - Segmentation is versioned; use timestamps when needed\n",
    "7. **Coordinate systems matter** - CAVE uses nanometers, CloudVolume uses voxels\n",
    "8. **CloudVolume has limits** - Limited spatial coverage and resolution; use L2 skeletons/meshes for full neurons\n",
    "\n",
    "### Common Use Cases\n",
    "\n",
    "**Synapse analysis**: Use `locs_to_segments` + `snap_to_id` for quality control  \n",
    "**Neuron tracking**: Use `roots_to_supervoxels` + `update_ids` for stable IDs  \n",
    "**Region analysis**: Use `get_segmentation_cutout` for local connectivity  \n",
    "**Quality control**: Use `neuron_to_segments` to validate reconstructions  \n",
    "**Historical analysis**: Use `get_lineage_graph` + `find_common_time` for temporal studies  \n",
    "**Voxel operations**: Use `get_voxels` with explicit bounds for small regions\n",
    "\n",
    "### Important Notes on Voxel Operations\n",
    "\n",
    "When working with voxel-level data (`get_voxels`, `get_segmentation_cutout`):\n",
    "- CloudVolume covers only a subset of the full dataset (~360 µm cube)\n",
    "- Always specify explicit bounds to avoid coverage errors\n",
    "- Use small regions (< 10 µm) for best performance\n",
    "- For complete neuron morphology, use `get_l2_skeleton` or `get_mesh` instead"
   ]
  }
 ],
 "metadata": {
  "kernelspec": {
   "display_name": "crantpy-2RjYzxAC-py3.10",
   "language": "python",
   "name": "python3"
  },
  "language_info": {
   "codemirror_mode": {
    "name": "ipython",
    "version": 3
   },
   "file_extension": ".py",
   "mimetype": "text/x-python",
   "name": "python",
   "nbconvert_exporter": "python",
   "pygments_lexer": "ipython3",
   "version": "3.10.14"
  }
 },
 "nbformat": 4,
 "nbformat_minor": 5
}
