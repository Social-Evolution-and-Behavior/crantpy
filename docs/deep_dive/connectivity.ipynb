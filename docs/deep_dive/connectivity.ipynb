{
 "cells": [
  {
   "cell_type": "markdown",
   "id": "36eec0a8",
   "metadata": {},
   "source": [
    "# Deep Dive: Analyzing Connectivity\n",
    "This tutorial will guide you through the process of querying and analyzing connectivity data using the CRANTpy package. We will cover how to retrieve connectivity data, filter it, and visualize the results."
   ]
  },
  {
   "cell_type": "code",
   "execution_count": 1,
   "id": "4e7d2a0c",
   "metadata": {},
   "outputs": [
    {
     "name": "stdout",
     "output_type": "stream",
     "text": [
      "CRANTpy loaded successfully!\n",
      "Default dataset: latest\n"
     ]
    }
   ],
   "source": [
    "# Import CRANTpy and other necessary libraries\n",
    "import crantpy as cp\n",
    "import pandas as pd\n",
    "import numpy as np\n",
    "import matplotlib.pyplot as plt\n",
    "import seaborn as sns\n",
    "\n",
    "# Set up logging to see progress\n",
    "cp.set_logging_level(\"INFO\")\n",
    "\n",
    "print(\"CRANTpy loaded successfully!\")\n",
    "print(f\"Default dataset: {cp.CRANT_DEFAULT_DATASET}\")"
   ]
  },
  {
   "cell_type": "markdown",
   "id": "3f96771d",
   "metadata": {},
   "source": [
    "## 1. Authentication Setup\n",
    "\n",
    "Before we can access the data, we need to authenticate with the CAVE service. This is typically a one-time setup."
   ]
  },
  {
   "cell_type": "code",
   "execution_count": 2,
   "id": "d5023262",
   "metadata": {},
   "outputs": [
    {
     "name": "stdout",
     "output_type": "stream",
     "text": [
      "Successfully connected to datastack: kronauer_ant\n",
      "Server: https://proofreading.zetta.ai\n"
     ]
    }
   ],
   "source": [
    "# Generate and save authentication token (uncomment if first time)\n",
    "# cp.generate_cave_token(save=True)\n",
    "\n",
    "# Test connection\n",
    "try:\n",
    "    client = cp.get_cave_client()\n",
    "    print(f\"Successfully connected to datastack: {client.datastack_name}\")\n",
    "    print(f\"Server: {client.server_address}\")\n",
    "except Exception as e:\n",
    "    print(f\"Connection failed: {e}\")\n",
    "    print(\"Please run: cp.generate_cave_token(save=True)\")"
   ]
  }
 ],
 "metadata": {
  "kernelspec": {
   "display_name": "crantpy-2RjYzxAC-py3.10",
   "language": "python",
   "name": "python3"
  },
  "language_info": {
   "codemirror_mode": {
    "name": "ipython",
    "version": 3
   },
   "file_extension": ".py",
   "mimetype": "text/x-python",
   "name": "python",
   "nbconvert_exporter": "python",
   "pygments_lexer": "ipython3",
   "version": "3.10.14"
  }
 },
 "nbformat": 4,
 "nbformat_minor": 5
}
