{
 "cells": [
  {
   "cell_type": "markdown",
   "id": "792e2946",
   "metadata": {},
   "source": [
    "# Deep Dive: Advanced Neuron Querying\n",
    "\n",
    "This tutorial explores the powerful and flexible querying capabilities of CRANTpy. We'll go beyond simple filters and dive into:\n",
    "\n",
    "1.  **Complex, multi-parameter queries**\n",
    "2.  **Using regular expressions** for flexible matching\n",
    "3.  **Inspecting available data** to build your queries\n",
    "4.  **Analyzing populations** of neurons returned from queries\n",
    "\n",
    "Let's get started by setting up our environment."
   ]
  },
  {
   "cell_type": "code",
   "execution_count": 1,
   "id": "c1707cda",
   "metadata": {},
   "outputs": [
    {
     "name": "stdout",
     "output_type": "stream",
     "text": [
      "CRANTpy loaded successfully!\n",
      "Default dataset: latest\n"
     ]
    }
   ],
   "source": [
    "# Import CRANTpy and other necessary libraries\n",
    "import crantpy as cp\n",
    "import pandas as pd\n",
    "import numpy as np\n",
    "import matplotlib.pyplot as plt\n",
    "import seaborn as sns\n",
    "\n",
    "# Set up logging to see progress\n",
    "cp.set_logging_level(\"WARNING\")  # Quieter for this tutorial\n",
    "\n",
    "print(\"CRANTpy loaded successfully!\")\n",
    "print(f\"Default dataset: {cp.CRANT_DEFAULT_DATASET}\")"
   ]
  },
  {
   "cell_type": "markdown",
   "id": "1f0263fd",
   "metadata": {},
   "source": [
    "## 1. Authentication Setup\n",
    "\n",
    "First, ensure you are authenticated with the CAVE service."
   ]
  },
  {
   "cell_type": "code",
   "execution_count": 2,
   "id": "9dee9b14",
   "metadata": {},
   "outputs": [
    {
     "name": "stdout",
     "output_type": "stream",
     "text": [
      "Successfully connected to datastack: kronauer_ant\n",
      "Server: https://proofreading.zetta.ai\n"
     ]
    }
   ],
   "source": [
    "# Generate and save authentication token (uncomment if first time)\n",
    "# cp.generate_cave_token(save=True)\n",
    "\n",
    "# Test connection\n",
    "try:\n",
    "    client = cp.get_cave_client()\n",
    "    print(f\"Successfully connected to datastack: {client.datastack_name}\")\n",
    "    print(f\"Server: {client.server_address}\")\n",
    "except Exception as e:\n",
    "    print(f\"Connection failed: {e}\")\n",
    "    print(\"Please run: cp.generate_cave_token(save=True)\")"
   ]
  },
  {
   "cell_type": "markdown",
   "id": "8c36a55d",
   "metadata": {},
   "source": [
    "## 2. Exploring Available Annotation Data\n",
    "\n",
    "To build powerful queries, you first need to know what data you can filter on. Let's inspect the available annotation fields and their values."
   ]
  },
  {
   "cell_type": "code",
   "execution_count": 3,
   "id": "80ece1a5",
   "metadata": {},
   "outputs": [
    {
     "name": "stdout",
     "output_type": "stream",
     "text": [
      "Available annotation fields (25):\n",
      "  - alternative_names\n",
      "  - annotator_notes\n",
      "  - cave_table\n",
      "  - cell_class\n",
      "  - cell_instance\n",
      "  - cell_subtype\n",
      "  - cell_type\n",
      "  - date_proofread\n",
      "  - flow\n",
      "  - hemilineage\n",
      "  - known_nt\n",
      "  - known_nt_source\n",
      "  - nerve\n",
      "  - ngl_link\n",
      "  - nucleus_id\n",
      "  - proofread\n",
      "  - proofreader_notes\n",
      "  - region\n",
      "  - root_id\n",
      "  - side\n",
      "  - status\n",
      "  - super_class\n",
      "  - tract\n",
      "  - user_annotator\n",
      "  - user_proofreader\n"
     ]
    }
   ],
   "source": [
    "# Get all available annotation fields\n",
    "available_fields = cp.NeuronCriteria.available_fields()\n",
    "print(f\"Available annotation fields ({len(available_fields)}):\")\n",
    "for field in sorted(available_fields):\n",
    "    print(f\"  - {field}\")"
   ]
  },
  {
   "cell_type": "code",
   "execution_count": 4,
   "id": "e746b2a8",
   "metadata": {},
   "outputs": [
    {
     "name": "stdout",
     "output_type": "stream",
     "text": [
      "Total neurons in dataset: 6,166\n",
      "Dataset shape: (6166, 30)\n",
      "\n",
      "First few rows:\n"
     ]
    },
    {
     "data": {
      "application/vnd.microsoft.datawrangler.viewer.v0+json": {
       "columns": [
        {
         "name": "index",
         "rawType": "int64",
         "type": "integer"
        },
        {
         "name": "root_id",
         "rawType": "object",
         "type": "string"
        },
        {
         "name": "root_id_processed",
         "rawType": "object",
         "type": "unknown"
        },
        {
         "name": "supervoxel_id",
         "rawType": "object",
         "type": "string"
        },
        {
         "name": "position",
         "rawType": "object",
         "type": "unknown"
        },
        {
         "name": "nucleus_id",
         "rawType": "object",
         "type": "string"
        },
        {
         "name": "nucleus_position",
         "rawType": "object",
         "type": "unknown"
        },
        {
         "name": "root_position",
         "rawType": "object",
         "type": "unknown"
        },
        {
         "name": "cave_table",
         "rawType": "object",
         "type": "unknown"
        },
        {
         "name": "proofread",
         "rawType": "object",
         "type": "unknown"
        },
        {
         "name": "status",
         "rawType": "object",
         "type": "unknown"
        },
        {
         "name": "region",
         "rawType": "object",
         "type": "unknown"
        },
        {
         "name": "proofreader_notes",
         "rawType": "object",
         "type": "string"
        },
        {
         "name": "side",
         "rawType": "object",
         "type": "string"
        },
        {
         "name": "nerve",
         "rawType": "object",
         "type": "unknown"
        },
        {
         "name": "tract",
         "rawType": "object",
         "type": "unknown"
        },
        {
         "name": "hemilineage",
         "rawType": "object",
         "type": "unknown"
        },
        {
         "name": "flow",
         "rawType": "object",
         "type": "string"
        },
        {
         "name": "super_class",
         "rawType": "object",
         "type": "string"
        },
        {
         "name": "cell_class",
         "rawType": "object",
         "type": "string"
        },
        {
         "name": "cell_type",
         "rawType": "object",
         "type": "unknown"
        },
        {
         "name": "cell_subtype",
         "rawType": "object",
         "type": "unknown"
        },
        {
         "name": "cell_instance",
         "rawType": "object",
         "type": "unknown"
        },
        {
         "name": "known_nt",
         "rawType": "object",
         "type": "string"
        },
        {
         "name": "known_nt_source",
         "rawType": "object",
         "type": "string"
        },
        {
         "name": "alternative_names",
         "rawType": "object",
         "type": "unknown"
        },
        {
         "name": "annotator_notes",
         "rawType": "object",
         "type": "unknown"
        },
        {
         "name": "user_annotator",
         "rawType": "object",
         "type": "unknown"
        },
        {
         "name": "user_proofreader",
         "rawType": "object",
         "type": "unknown"
        },
        {
         "name": "ngl_link",
         "rawType": "object",
         "type": "string"
        },
        {
         "name": "date_proofread",
         "rawType": "object",
         "type": "unknown"
        }
       ],
       "ref": "53bab9bd-f705-4d9b-9375-654736b96091",
       "rows": [
        [
         "0",
         "576460752700282748",
         null,
         "74170512125421134",
         "[32782, 30214, 1532]",
         "72691394107456688",
         "[37306, 31317, 1405]",
         "[37306, 31317, 1405]",
         null,
         "False",
         "['DAMAGED', 'PARTIALLY_PROOFREAD', 'TRACING_ISSUE']",
         "['LH', 'AL', 'MB']",
         "PN following mALT; need to finish proofreading to LH\n",
         "left",
         null,
         "mALT",
         null,
         "intrinsic",
         "antennal_lobe",
         "olfactory_projection_neuron",
         null,
         null,
         null,
         "acetylcholine",
         "Tanaka et al., 2012 (immuno, mALT, drosophila melanogaster)",
         null,
         null,
         "['lindsey_lopes']",
         "['lindsey_lopes']",
         "https://spelunker.cave-explorer.org/#!middleauth+https://global.daf-apis.com/nglstate/api/v1/5619686189301760",
         null
        ],
        [
         "1",
         "576460752681552812",
         null,
         "74100212167609429",
         "[32121, 31509, 1702]",
         "72621025497478503",
         "[36772, 28974, 1953]",
         "[36772, 28974, 1953]",
         null,
         "True",
         "['BACKBONE_PROOFREAD']",
         "['LH', 'AL', 'MB']",
         "maybe more in LH",
         "left",
         null,
         "mALT",
         null,
         "intrinsic",
         "antennal_lobe",
         "olfactory_projection_neuron",
         null,
         null,
         null,
         "acetylcholine",
         "Tanaka et al., 2012 (immuno, mALT, drosophila melanogaster)",
         null,
         null,
         "['lindsey_lopes']",
         "['lindsey_lopes']",
         "https://spelunker.cave-explorer.org/#!middleauth+https://global.daf-apis.com/nglstate/api/v1/6592037148164096",
         null
        ],
        [
         "2",
         "576460752666303418",
         null,
         "74169069687405059",
         "[33220, 8787, 4046]",
         "72620682436952978",
         "[33727, 8389, 4054]",
         "[33727, 8389, 4054]",
         null,
         "False",
         "['PARTIALLY_PROOFREAD', 'TRACING_ISSUE']",
         "['MB']",
         "spiny KC; need to extend down to MB lobe(s) from calyx\n",
         "right",
         null,
         null,
         null,
         "intrinsic",
         "kenyon_cell",
         "spiny_kenyon_cell",
         null,
         null,
         null,
         "acetylcholine, sNPF",
         "Barnstedt et al. 2016 (immuno, KCs, drosophila melanogaster)",
         null,
         null,
         "['lindsey_lopes']",
         "['lindsey_lopes']",
         "https://spelunker.cave-explorer.org/#!middleauth+https://global.daf-apis.com/nglstate/api/v1/5450974773641216",
         null
        ],
        [
         "3",
         "576460752722405178",
         null,
         "74100212167388307",
         "[32442, 31693, 1618]",
         "72621025497491534",
         "[36266, 31490, 2021]",
         "[36266, 31490, 2021]",
         null,
         "False",
         "['PARTIALLY_PROOFREAD', 'TRACING_ISSUE']",
         "['LH', 'AL', 'MB']",
         "PN following mALT; has large merge with spiny KC and not fully proofread backbone\n\n​\n",
         "left",
         null,
         "mALT",
         null,
         "intrinsic",
         "antennal_lobe",
         "olfactory_projection_neuron",
         null,
         null,
         null,
         "acetylcholine",
         "Tanaka et al., 2012 (immuno, mALT, drosophila melanogaster)",
         null,
         null,
         "['lindsey_lopes']",
         "['lindsey_lopes']",
         "https://spelunker.cave-explorer.org/#!middleauth+https://global.daf-apis.com/nglstate/api/v1/5813184263880704",
         null
        ],
        [
         "4",
         "576460752773799604",
         null,
         "74100280887219649",
         "[32484, 32119, 1756]",
         "72691394308791443",
         "[37240, 29878, 2178]",
         "[37240, 29878, 2178]",
         null,
         "True",
         "['BACKBONE_PROOFREAD']",
         "['LH', 'AL', 'MB']",
         "PN following mALT; likely more in LH and double-check MB calyces\n",
         "right",
         null,
         "mALT",
         null,
         "intrinsic",
         "antennal_lobe",
         "olfactory_projection_neuron",
         null,
         null,
         null,
         "acetylcholine",
         "Tanaka et al., 2012 (immuno, mALT, drosophila melanogaster)",
         null,
         null,
         "['lindsey_lopes']",
         "['lindsey_lopes']",
         "https://spelunker.cave-explorer.org/#!middleauth+https://global.daf-apis.com/nglstate/api/v1/6056527807905792",
         null
        ]
       ],
       "shape": {
        "columns": 30,
        "rows": 5
       }
      },
      "text/html": [
       "<div>\n",
       "<style scoped>\n",
       "    .dataframe tbody tr th:only-of-type {\n",
       "        vertical-align: middle;\n",
       "    }\n",
       "\n",
       "    .dataframe tbody tr th {\n",
       "        vertical-align: top;\n",
       "    }\n",
       "\n",
       "    .dataframe thead th {\n",
       "        text-align: right;\n",
       "    }\n",
       "</style>\n",
       "<table border=\"1\" class=\"dataframe\">\n",
       "  <thead>\n",
       "    <tr style=\"text-align: right;\">\n",
       "      <th></th>\n",
       "      <th>root_id</th>\n",
       "      <th>root_id_processed</th>\n",
       "      <th>supervoxel_id</th>\n",
       "      <th>position</th>\n",
       "      <th>nucleus_id</th>\n",
       "      <th>nucleus_position</th>\n",
       "      <th>root_position</th>\n",
       "      <th>cave_table</th>\n",
       "      <th>proofread</th>\n",
       "      <th>status</th>\n",
       "      <th>...</th>\n",
       "      <th>cell_subtype</th>\n",
       "      <th>cell_instance</th>\n",
       "      <th>known_nt</th>\n",
       "      <th>known_nt_source</th>\n",
       "      <th>alternative_names</th>\n",
       "      <th>annotator_notes</th>\n",
       "      <th>user_annotator</th>\n",
       "      <th>user_proofreader</th>\n",
       "      <th>ngl_link</th>\n",
       "      <th>date_proofread</th>\n",
       "    </tr>\n",
       "  </thead>\n",
       "  <tbody>\n",
       "    <tr>\n",
       "      <th>0</th>\n",
       "      <td>576460752700282748</td>\n",
       "      <td>None</td>\n",
       "      <td>74170512125421134</td>\n",
       "      <td>[32782, 30214, 1532]</td>\n",
       "      <td>72691394107456688</td>\n",
       "      <td>[37306, 31317, 1405]</td>\n",
       "      <td>[37306, 31317, 1405]</td>\n",
       "      <td>None</td>\n",
       "      <td>False</td>\n",
       "      <td>[DAMAGED, PARTIALLY_PROOFREAD, TRACING_ISSUE]</td>\n",
       "      <td>...</td>\n",
       "      <td>None</td>\n",
       "      <td>None</td>\n",
       "      <td>acetylcholine</td>\n",
       "      <td>Tanaka et al., 2012 (immuno, mALT, drosophila ...</td>\n",
       "      <td>None</td>\n",
       "      <td>None</td>\n",
       "      <td>[lindsey_lopes]</td>\n",
       "      <td>[lindsey_lopes]</td>\n",
       "      <td>https://spelunker.cave-explorer.org/#!middleau...</td>\n",
       "      <td>None</td>\n",
       "    </tr>\n",
       "    <tr>\n",
       "      <th>1</th>\n",
       "      <td>576460752681552812</td>\n",
       "      <td>None</td>\n",
       "      <td>74100212167609429</td>\n",
       "      <td>[32121, 31509, 1702]</td>\n",
       "      <td>72621025497478503</td>\n",
       "      <td>[36772, 28974, 1953]</td>\n",
       "      <td>[36772, 28974, 1953]</td>\n",
       "      <td>None</td>\n",
       "      <td>True</td>\n",
       "      <td>[BACKBONE_PROOFREAD]</td>\n",
       "      <td>...</td>\n",
       "      <td>None</td>\n",
       "      <td>None</td>\n",
       "      <td>acetylcholine</td>\n",
       "      <td>Tanaka et al., 2012 (immuno, mALT, drosophila ...</td>\n",
       "      <td>None</td>\n",
       "      <td>None</td>\n",
       "      <td>[lindsey_lopes]</td>\n",
       "      <td>[lindsey_lopes]</td>\n",
       "      <td>https://spelunker.cave-explorer.org/#!middleau...</td>\n",
       "      <td>None</td>\n",
       "    </tr>\n",
       "    <tr>\n",
       "      <th>2</th>\n",
       "      <td>576460752666303418</td>\n",
       "      <td>None</td>\n",
       "      <td>74169069687405059</td>\n",
       "      <td>[33220, 8787, 4046]</td>\n",
       "      <td>72620682436952978</td>\n",
       "      <td>[33727, 8389, 4054]</td>\n",
       "      <td>[33727, 8389, 4054]</td>\n",
       "      <td>None</td>\n",
       "      <td>False</td>\n",
       "      <td>[PARTIALLY_PROOFREAD, TRACING_ISSUE]</td>\n",
       "      <td>...</td>\n",
       "      <td>None</td>\n",
       "      <td>None</td>\n",
       "      <td>acetylcholine, sNPF</td>\n",
       "      <td>Barnstedt et al. 2016 (immuno, KCs, drosophila...</td>\n",
       "      <td>None</td>\n",
       "      <td>None</td>\n",
       "      <td>[lindsey_lopes]</td>\n",
       "      <td>[lindsey_lopes]</td>\n",
       "      <td>https://spelunker.cave-explorer.org/#!middleau...</td>\n",
       "      <td>None</td>\n",
       "    </tr>\n",
       "    <tr>\n",
       "      <th>3</th>\n",
       "      <td>576460752722405178</td>\n",
       "      <td>None</td>\n",
       "      <td>74100212167388307</td>\n",
       "      <td>[32442, 31693, 1618]</td>\n",
       "      <td>72621025497491534</td>\n",
       "      <td>[36266, 31490, 2021]</td>\n",
       "      <td>[36266, 31490, 2021]</td>\n",
       "      <td>None</td>\n",
       "      <td>False</td>\n",
       "      <td>[PARTIALLY_PROOFREAD, TRACING_ISSUE]</td>\n",
       "      <td>...</td>\n",
       "      <td>None</td>\n",
       "      <td>None</td>\n",
       "      <td>acetylcholine</td>\n",
       "      <td>Tanaka et al., 2012 (immuno, mALT, drosophila ...</td>\n",
       "      <td>None</td>\n",
       "      <td>None</td>\n",
       "      <td>[lindsey_lopes]</td>\n",
       "      <td>[lindsey_lopes]</td>\n",
       "      <td>https://spelunker.cave-explorer.org/#!middleau...</td>\n",
       "      <td>None</td>\n",
       "    </tr>\n",
       "    <tr>\n",
       "      <th>4</th>\n",
       "      <td>576460752773799604</td>\n",
       "      <td>None</td>\n",
       "      <td>74100280887219649</td>\n",
       "      <td>[32484, 32119, 1756]</td>\n",
       "      <td>72691394308791443</td>\n",
       "      <td>[37240, 29878, 2178]</td>\n",
       "      <td>[37240, 29878, 2178]</td>\n",
       "      <td>None</td>\n",
       "      <td>True</td>\n",
       "      <td>[BACKBONE_PROOFREAD]</td>\n",
       "      <td>...</td>\n",
       "      <td>None</td>\n",
       "      <td>None</td>\n",
       "      <td>acetylcholine</td>\n",
       "      <td>Tanaka et al., 2012 (immuno, mALT, drosophila ...</td>\n",
       "      <td>None</td>\n",
       "      <td>None</td>\n",
       "      <td>[lindsey_lopes]</td>\n",
       "      <td>[lindsey_lopes]</td>\n",
       "      <td>https://spelunker.cave-explorer.org/#!middleau...</td>\n",
       "      <td>None</td>\n",
       "    </tr>\n",
       "  </tbody>\n",
       "</table>\n",
       "<p>5 rows × 30 columns</p>\n",
       "</div>"
      ],
      "text/plain": [
       "              root_id root_id_processed      supervoxel_id  \\\n",
       "0  576460752700282748              None  74170512125421134   \n",
       "1  576460752681552812              None  74100212167609429   \n",
       "2  576460752666303418              None  74169069687405059   \n",
       "3  576460752722405178              None  74100212167388307   \n",
       "4  576460752773799604              None  74100280887219649   \n",
       "\n",
       "               position         nucleus_id      nucleus_position  \\\n",
       "0  [32782, 30214, 1532]  72691394107456688  [37306, 31317, 1405]   \n",
       "1  [32121, 31509, 1702]  72621025497478503  [36772, 28974, 1953]   \n",
       "2   [33220, 8787, 4046]  72620682436952978   [33727, 8389, 4054]   \n",
       "3  [32442, 31693, 1618]  72621025497491534  [36266, 31490, 2021]   \n",
       "4  [32484, 32119, 1756]  72691394308791443  [37240, 29878, 2178]   \n",
       "\n",
       "          root_position cave_table proofread  \\\n",
       "0  [37306, 31317, 1405]       None     False   \n",
       "1  [36772, 28974, 1953]       None      True   \n",
       "2   [33727, 8389, 4054]       None     False   \n",
       "3  [36266, 31490, 2021]       None     False   \n",
       "4  [37240, 29878, 2178]       None      True   \n",
       "\n",
       "                                          status  ... cell_subtype  \\\n",
       "0  [DAMAGED, PARTIALLY_PROOFREAD, TRACING_ISSUE]  ...         None   \n",
       "1                           [BACKBONE_PROOFREAD]  ...         None   \n",
       "2           [PARTIALLY_PROOFREAD, TRACING_ISSUE]  ...         None   \n",
       "3           [PARTIALLY_PROOFREAD, TRACING_ISSUE]  ...         None   \n",
       "4                           [BACKBONE_PROOFREAD]  ...         None   \n",
       "\n",
       "  cell_instance             known_nt  \\\n",
       "0          None        acetylcholine   \n",
       "1          None        acetylcholine   \n",
       "2          None  acetylcholine, sNPF   \n",
       "3          None        acetylcholine   \n",
       "4          None        acetylcholine   \n",
       "\n",
       "                                     known_nt_source alternative_names  \\\n",
       "0  Tanaka et al., 2012 (immuno, mALT, drosophila ...              None   \n",
       "1  Tanaka et al., 2012 (immuno, mALT, drosophila ...              None   \n",
       "2  Barnstedt et al. 2016 (immuno, KCs, drosophila...              None   \n",
       "3  Tanaka et al., 2012 (immuno, mALT, drosophila ...              None   \n",
       "4  Tanaka et al., 2012 (immuno, mALT, drosophila ...              None   \n",
       "\n",
       "  annotator_notes   user_annotator user_proofreader  \\\n",
       "0            None  [lindsey_lopes]  [lindsey_lopes]   \n",
       "1            None  [lindsey_lopes]  [lindsey_lopes]   \n",
       "2            None  [lindsey_lopes]  [lindsey_lopes]   \n",
       "3            None  [lindsey_lopes]  [lindsey_lopes]   \n",
       "4            None  [lindsey_lopes]  [lindsey_lopes]   \n",
       "\n",
       "                                            ngl_link date_proofread  \n",
       "0  https://spelunker.cave-explorer.org/#!middleau...           None  \n",
       "1  https://spelunker.cave-explorer.org/#!middleau...           None  \n",
       "2  https://spelunker.cave-explorer.org/#!middleau...           None  \n",
       "3  https://spelunker.cave-explorer.org/#!middleau...           None  \n",
       "4  https://spelunker.cave-explorer.org/#!middleau...           None  \n",
       "\n",
       "[5 rows x 30 columns]"
      ]
     },
     "metadata": {},
     "output_type": "display_data"
    }
   ],
   "source": [
    "# Get an overview of the entire dataset annotations\n",
    "all_annotations = cp.get_all_seatable_annotations()\n",
    "print(f\"Total neurons in dataset: {len(all_annotations):,}\")\n",
    "print(f\"Dataset shape: {all_annotations.shape}\")\n",
    "print(\"\\nFirst few rows:\")\n",
    "display(all_annotations.head())"
   ]
  },
  {
   "cell_type": "markdown",
   "id": "720ef05a",
   "metadata": {},
   "source": [
    "### Exploring Data Distribution\n",
    "\n",
    "Let's visualize some of the key annotation fields to understand the dataset better."
   ]
  },
  {
   "cell_type": "code",
   "execution_count": 5,
   "id": "280d82ed",
   "metadata": {},
   "outputs": [
    {
     "name": "stdout",
     "output_type": "stream",
     "text": [
      "Top 30 annotated cell types:\n",
      "cell_type\n",
      "PFN          92\n",
      "ER2          54\n",
      "ER1          54\n",
      "ER2_input    50\n",
      "delta7       40\n",
      "EPG/PEG      35\n",
      "ER1_input    28\n",
      "PFN?         27\n",
      "PFL          19\n",
      "PBt          17\n",
      "FBt6         16\n",
      "FBt2         15\n",
      "FBt          12\n",
      "DNa          12\n",
      "PEN          11\n",
      "FBt5         11\n",
      "PFx          11\n",
      "ER           10\n",
      "ER4           9\n",
      "ER3_input     9\n",
      "ER3           9\n",
      "FBt4          9\n",
      "FBt3          9\n",
      "PF1           8\n",
      "FBt5/6        6\n",
      "FBt1          6\n",
      "FBt2/3        5\n",
      "Fx            5\n",
      "LNOm          5\n",
      "delta7?       4\n",
      "Name: count, dtype: int64\n"
     ]
    },
    {
     "data": {
      "image/png": "[encoded data removed]",
      "text/plain": [
       "<Figure size 1400x600 with 1 Axes>"
      ]
     },
     "metadata": {},
     "output_type": "display_data"
    }
   ],
   "source": [
    "# Explore the distribution of cell types\n",
    "cell_type_counts = all_annotations['cell_type'].value_counts()\n",
    "print(\"Top 30 annotated cell types:\")\n",
    "print(cell_type_counts.head(30))\n",
    "\n",
    "# Visualize\n",
    "plt.figure(figsize=(14, 6))\n",
    "cell_type_counts.head(30).plot(kind='bar', color='steelblue')\n",
    "plt.title('Top 30 Cell Types in CRANT Dataset', fontsize=14, fontweight='bold')\n",
    "plt.xlabel('Cell Class')\n",
    "plt.ylabel('Number of Neurons')\n",
    "plt.xticks(rotation=45, ha='right')\n",
    "plt.tight_layout()\n",
    "plt.show()"
   ]
  },
  {
   "cell_type": "markdown",
   "id": "f49529e9",
   "metadata": {},
   "source": [
    "## 3. Basic Querying with NeuronCriteria\n",
    "\n",
    "The `NeuronCriteria` class is the main interface for filtering neurons. Let's start with simple queries."
   ]
  },
  {
   "cell_type": "markdown",
   "id": "8ba5158e",
   "metadata": {},
   "source": [
    "### Simple Single-Criterion Queries\n",
    "\n",
    "The most basic query is filtering by a single field."
   ]
  },
  {
   "cell_type": "code",
   "execution_count": 7,
   "id": "33df4a53",
   "metadata": {},
   "outputs": [
    {
     "name": "stdout",
     "output_type": "stream",
     "text": [
      "Found 107 olfactory projection neurons\n",
      "Found 3648 left-side neurons\n",
      "Found 2275 neurons in mALT tract\n"
     ]
    }
   ],
   "source": [
    "# Query neurons by cell class\n",
    "olfactory_projection_neurons = cp.NeuronCriteria(cell_class='olfactory_projection_neuron')\n",
    "opn_ids = olfactory_projection_neurons.get_roots()\n",
    "print(f\"Found {len(opn_ids)} olfactory projection neurons\")\n",
    "\n",
    "# Query neurons by side\n",
    "left_neurons = cp.NeuronCriteria(side='left')\n",
    "left_ids = left_neurons.get_roots()\n",
    "print(f\"Found {len(left_ids)} left-side neurons\")\n",
    "\n",
    "# Query neurons by tract\n",
    "malt_neurons = cp.NeuronCriteria(tract='mALT')\n",
    "malt_ids = malt_neurons.get_roots()\n",
    "print(f\"Found {len(malt_ids)} neurons in mALT tract\")"
   ]
  },
  {
   "cell_type": "markdown",
   "id": "e86da3db",
   "metadata": {},
   "source": [
    "### Multi-Criterion Queries (Logical AND)\n",
    "\n",
    "You can combine multiple criteria - the query will return neurons matching **all** criteria (logical AND)."
   ]
  },
  {
   "cell_type": "code",
   "execution_count": 8,
   "id": "d0ede7e6",
   "metadata": {},
   "outputs": [
    {
     "name": "stdout",
     "output_type": "stream",
     "text": [
      "Found 37 left olfactory projection neurons\n",
      "Found 30 proofread left mushroom body neurons\n"
     ]
    }
   ],
   "source": [
    "# Combine cell class and side\n",
    "left_opn = cp.NeuronCriteria(\n",
    "    cell_class='olfactory_projection_neuron',\n",
    "    side='left'\n",
    ")\n",
    "left_opn_ids = left_opn.get_roots()\n",
    "print(f\"Found {len(left_opn_ids)} left olfactory projection neurons\")\n",
    "\n",
    "# Combine region, side, and proofread status\n",
    "mb_left_proofread = cp.NeuronCriteria(\n",
    "    region='MB',\n",
    "    side='left',\n",
    "    proofread=True\n",
    ")\n",
    "mb_left_proofread_ids = mb_left_proofread.get_roots()\n",
    "print(f\"Found {len(mb_left_proofread_ids)} proofread left mushroom body neurons\")"
   ]
  },
  {
   "cell_type": "markdown",
   "id": "67f98b49",
   "metadata": {},
   "source": [
    "## 4. Advanced Filtering Options\n",
    "\n",
    "CRANTpy offers powerful filtering options for complex queries."
   ]
  },
  {
   "cell_type": "markdown",
   "id": "3d487b55",
   "metadata": {},
   "source": [
    "### Using Regular Expressions\n",
    "\n",
    "Regular expressions (`regex=True`) enable powerful pattern matching for finding related groups of neurons."
   ]
  },
  {
   "cell_type": "code",
   "execution_count": 9,
   "id": "f88008b9",
   "metadata": {},
   "outputs": [
    {
     "name": "stdout",
     "output_type": "stream",
     "text": [
      "Found 6 ExR subtype neurons\n"
     ]
    },
    {
     "name": "stderr",
     "output_type": "stream",
     "text": [
      "2025-10-10 07:58:43 - WARNING - Failed to update 2 annotation root ID(s). These IDs may no longer exist.\n"
     ]
    },
    {
     "name": "stdout",
     "output_type": "stream",
     "text": [
      "\n",
      "ExR subtypes found:\n",
      "cell_type\n",
      "ExR1    4\n",
      "ExR2    2\n",
      "Name: count, dtype: int64\n",
      "\n",
      "Found 450 tangential neurons (FBt/PBt)\n"
     ]
    }
   ],
   "source": [
    "# Find all ExR subtypes using regex\n",
    "ExR_subtypes = cp.NeuronCriteria(\n",
    "    cell_type='ExR',  # Matches ExR_a, ExR_b, etc.\n",
    "    regex=True\n",
    ")\n",
    "ExR_subtype_ids = ExR_subtypes.get_roots()\n",
    "print(f\"Found {len(ExR_subtype_ids)} ExR subtype neurons\")\n",
    "\n",
    "# Get their annotations to see the specific types\n",
    "exR_annotations = cp.get_annotations(ExR_subtypes)\n",
    "print(\"\\nExR subtypes found:\")\n",
    "print(exR_annotations['cell_type'].value_counts())\n",
    "\n",
    "# More complex regex: Find all tangential neurons (FBt or PBt)\n",
    "all_tangential = cp.NeuronCriteria(\n",
    "    cell_type='[FBt|PBt]',  # Matches FBt or PBt\n",
    "    regex=True\n",
    ")\n",
    "all_tangential_ids = all_tangential.get_roots()\n",
    "print(f\"\\nFound {len(all_tangential_ids)} tangential neurons (FBt/PBt)\")"
   ]
  },
  {
   "cell_type": "markdown",
   "id": "70f63be9",
   "metadata": {},
   "source": [
    "### Filtering with Lists: `match_all` Parameter\n",
    "\n",
    "When filtering by a list of values on fields that contain lists (like `status` or `region`), the `match_all` parameter controls the matching behavior."
   ]
  },
  {
   "cell_type": "code",
   "execution_count": 10,
   "id": "c8aecbc6",
   "metadata": {},
   "outputs": [
    {
     "name": "stdout",
     "output_type": "stream",
     "text": [
      "Neurons with ANY of the specified statuses: 715\n",
      "Neurons with ALL of the specified statuses: 2\n",
      "\n",
      "Neurons in BOTH MB and AL: 128\n"
     ]
    }
   ],
   "source": [
    "# match_all=False (default): neurons with ANY of the specified statuses\n",
    "any_status = cp.NeuronCriteria(\n",
    "    status=['BACKBONE_PROOFREAD', 'PRELIM_PROOFREAD'],\n",
    "    match_all=False  # This is the default\n",
    ")\n",
    "any_status_ids = any_status.get_roots()\n",
    "print(f\"Neurons with ANY of the specified statuses: {len(any_status_ids)}\")\n",
    "\n",
    "# match_all=True: neurons with ALL of the specified statuses\n",
    "all_statuses = cp.NeuronCriteria(\n",
    "    status=['DAMAGED', 'TRACING_ISSUE'],\n",
    "    match_all=True\n",
    ")\n",
    "try:\n",
    "    all_statuses_ids = all_statuses.get_roots()\n",
    "    print(f\"Neurons with ALL of the specified statuses: {len(all_statuses_ids)}\")\n",
    "except Exception as e:\n",
    "    print(f\"Query returned: {e}\")\n",
    "\n",
    "# Practical example: neurons in multiple regions\n",
    "multi_region = cp.NeuronCriteria(\n",
    "    region=['MB', 'AL'],  # Neurons that innervate both regions\n",
    "    match_all=True\n",
    ")\n",
    "try:\n",
    "    multi_region_ids = multi_region.get_roots()\n",
    "    print(f\"\\nNeurons in BOTH MB and AL: {len(multi_region_ids)}\")\n",
    "except Exception as e:\n",
    "    print(f\"\\nQuery returned: {e}\")"
   ]
  },
  {
   "cell_type": "markdown",
   "id": "1733061b",
   "metadata": {},
   "source": [
    "### Substring Matching: `exact` Parameter\n",
    "\n",
    "By default, queries match values exactly. Setting `exact=False` enables substring matching."
   ]
  },
  {
   "cell_type": "code",
   "execution_count": 11,
   "id": "5beded34",
   "metadata": {},
   "outputs": [
    {
     "name": "stdout",
     "output_type": "stream",
     "text": [
      "Exact match for 'olfactory_projection_neuron': 107\n",
      "Substring match for 'projection': 107\n",
      "\n",
      "Cell classes matched (substring 'projection'):\n",
      "cell_class\n",
      "olfactory_projection_neuron    109\n",
      "spiny_kenyon_cell                1\n",
      "Name: count, dtype: int64\n",
      "\n",
      "Cell classes matched (substring 'projection'):\n",
      "cell_class\n",
      "olfactory_projection_neuron    109\n",
      "spiny_kenyon_cell                1\n",
      "Name: count, dtype: int64\n"
     ]
    }
   ],
   "source": [
    "# exact=True (default): exact matching only\n",
    "exact_match = cp.NeuronCriteria(\n",
    "    cell_class='olfactory_projection_neuron',\n",
    "    exact=True\n",
    ")\n",
    "exact_ids = exact_match.get_roots()\n",
    "print(f\"Exact match for 'olfactory_projection_neuron': {len(exact_ids)}\")\n",
    "\n",
    "# exact=False: substring matching\n",
    "substring_match = cp.NeuronCriteria(\n",
    "    cell_class='projection',  # Will match any cell_class containing 'projection'\n",
    "    exact=False\n",
    ")\n",
    "substring_ids = substring_match.get_roots()\n",
    "print(f\"Substring match for 'projection': {len(substring_ids)}\")\n",
    "\n",
    "# See what was matched\n",
    "substring_annotations = cp.get_annotations(substring_match)\n",
    "print(\"\\nCell classes matched (substring 'projection'):\")\n",
    "print(substring_annotations['cell_class'].value_counts())"
   ]
  },
  {
   "cell_type": "markdown",
   "id": "b86301d9",
   "metadata": {},
   "source": [
    "### Case-Sensitive Matching\n",
    "\n",
    "By default, string matching is case-insensitive. Use `case=True` for case-sensitive matching (only applies when `regex=True`)."
   ]
  },
  {
   "cell_type": "code",
   "execution_count": 12,
   "id": "6c6d6d3d",
   "metadata": {},
   "outputs": [
    {
     "name": "stdout",
     "output_type": "stream",
     "text": [
      "Case-insensitive match for 'exr': 6\n",
      "Case-sensitive match returned: No neurons found matching the given criteria.\n"
     ]
    }
   ],
   "source": [
    "# Case-insensitive (default)\n",
    "case_insensitive = cp.NeuronCriteria(\n",
    "    cell_type='exr',  # Will match ExR, exr, ExR_a, etc.\n",
    "    regex=True,\n",
    "    case=False  # This is the default\n",
    ")\n",
    "case_insensitive_ids = case_insensitive.get_roots()\n",
    "print(f\"Case-insensitive match for 'exr': {len(case_insensitive_ids)}\")\n",
    "\n",
    "# Case-sensitive\n",
    "case_sensitive = cp.NeuronCriteria(\n",
    "    cell_type='exr',  # Will only match exact case\n",
    "    regex=True,\n",
    "    case=True\n",
    ")\n",
    "try:\n",
    "    case_sensitive_ids = case_sensitive.get_roots()\n",
    "    print(f\"Case-sensitive match for 'exr': {len(case_sensitive_ids)}\")\n",
    "except Exception as e:\n",
    "    print(f\"Case-sensitive match returned: {e}\")"
   ]
  },
  {
   "cell_type": "markdown",
   "id": "65454630",
   "metadata": {},
   "source": [
    "## 5. Working with Annotations\n",
    "\n",
    "Beyond just getting root IDs, you can fetch full annotation data for neurons."
   ]
  },
  {
   "cell_type": "code",
   "execution_count": 13,
   "id": "aeea7e2a",
   "metadata": {},
   "outputs": [
    {
     "name": "stdout",
     "output_type": "stream",
     "text": [
      "Retrieved annotations for 323 MB neurons\n",
      "\n",
      "Columns available: ['root_id', 'root_id_processed', 'supervoxel_id', 'position', 'nucleus_id', 'nucleus_position', 'root_position', 'cave_table', 'proofread', 'status', 'region', 'proofreader_notes', 'side', 'nerve', 'tract', 'hemilineage', 'flow', 'super_class', 'cell_class', 'cell_type', 'cell_subtype', 'cell_instance', 'known_nt', 'known_nt_source', 'alternative_names', 'annotator_notes', 'user_annotator', 'user_proofreader', 'ngl_link', 'date_proofread']\n",
      "\n",
      "First few rows:\n"
     ]
    },
    {
     "data": {
      "application/vnd.microsoft.datawrangler.viewer.v0+json": {
       "columns": [
        {
         "name": "index",
         "rawType": "int64",
         "type": "integer"
        },
        {
         "name": "root_id",
         "rawType": "object",
         "type": "string"
        },
        {
         "name": "cell_class",
         "rawType": "object",
         "type": "string"
        },
        {
         "name": "cell_type",
         "rawType": "object",
         "type": "unknown"
        },
        {
         "name": "side",
         "rawType": "object",
         "type": "string"
        },
        {
         "name": "region",
         "rawType": "object",
         "type": "unknown"
        }
       ],
       "ref": "9f03a9ed-9a07-40c9-846b-41aa006ebade",
       "rows": [
        [
         "0",
         "576460752700282748",
         "olfactory_projection_neuron",
         null,
         "left",
         "['LH', 'AL', 'MB']"
        ],
        [
         "1",
         "576460752681552812",
         "olfactory_projection_neuron",
         null,
         "left",
         "['LH', 'AL', 'MB']"
        ],
        [
         "2",
         "576460752666303418",
         "spiny_kenyon_cell",
         null,
         "right",
         "['MB']"
        ],
        [
         "3",
         "576460752722405178",
         "olfactory_projection_neuron",
         null,
         "left",
         "['LH', 'AL', 'MB']"
        ],
        [
         "4",
         "576460752773799604",
         "olfactory_projection_neuron",
         null,
         "right",
         "['LH', 'AL', 'MB']"
        ]
       ],
       "shape": {
        "columns": 5,
        "rows": 5
       }
      },
      "text/html": [
       "<div>\n",
       "<style scoped>\n",
       "    .dataframe tbody tr th:only-of-type {\n",
       "        vertical-align: middle;\n",
       "    }\n",
       "\n",
       "    .dataframe tbody tr th {\n",
       "        vertical-align: top;\n",
       "    }\n",
       "\n",
       "    .dataframe thead th {\n",
       "        text-align: right;\n",
       "    }\n",
       "</style>\n",
       "<table border=\"1\" class=\"dataframe\">\n",
       "  <thead>\n",
       "    <tr style=\"text-align: right;\">\n",
       "      <th></th>\n",
       "      <th>root_id</th>\n",
       "      <th>cell_class</th>\n",
       "      <th>cell_type</th>\n",
       "      <th>side</th>\n",
       "      <th>region</th>\n",
       "    </tr>\n",
       "  </thead>\n",
       "  <tbody>\n",
       "    <tr>\n",
       "      <th>0</th>\n",
       "      <td>576460752700282748</td>\n",
       "      <td>olfactory_projection_neuron</td>\n",
       "      <td>None</td>\n",
       "      <td>left</td>\n",
       "      <td>[LH, AL, MB]</td>\n",
       "    </tr>\n",
       "    <tr>\n",
       "      <th>1</th>\n",
       "      <td>576460752681552812</td>\n",
       "      <td>olfactory_projection_neuron</td>\n",
       "      <td>None</td>\n",
       "      <td>left</td>\n",
       "      <td>[LH, AL, MB]</td>\n",
       "    </tr>\n",
       "    <tr>\n",
       "      <th>2</th>\n",
       "      <td>576460752666303418</td>\n",
       "      <td>spiny_kenyon_cell</td>\n",
       "      <td>None</td>\n",
       "      <td>right</td>\n",
       "      <td>[MB]</td>\n",
       "    </tr>\n",
       "    <tr>\n",
       "      <th>3</th>\n",
       "      <td>576460752722405178</td>\n",
       "      <td>olfactory_projection_neuron</td>\n",
       "      <td>None</td>\n",
       "      <td>left</td>\n",
       "      <td>[LH, AL, MB]</td>\n",
       "    </tr>\n",
       "    <tr>\n",
       "      <th>4</th>\n",
       "      <td>576460752773799604</td>\n",
       "      <td>olfactory_projection_neuron</td>\n",
       "      <td>None</td>\n",
       "      <td>right</td>\n",
       "      <td>[LH, AL, MB]</td>\n",
       "    </tr>\n",
       "  </tbody>\n",
       "</table>\n",
       "</div>"
      ],
      "text/plain": [
       "              root_id                   cell_class cell_type   side  \\\n",
       "0  576460752700282748  olfactory_projection_neuron      None   left   \n",
       "1  576460752681552812  olfactory_projection_neuron      None   left   \n",
       "2  576460752666303418            spiny_kenyon_cell      None  right   \n",
       "3  576460752722405178  olfactory_projection_neuron      None   left   \n",
       "4  576460752773799604  olfactory_projection_neuron      None  right   \n",
       "\n",
       "         region  \n",
       "0  [LH, AL, MB]  \n",
       "1  [LH, AL, MB]  \n",
       "2          [MB]  \n",
       "3  [LH, AL, MB]  \n",
       "4  [LH, AL, MB]  "
      ]
     },
     "metadata": {},
     "output_type": "display_data"
    },
    {
     "name": "stdout",
     "output_type": "stream",
     "text": [
      "\n",
      "Annotations for 10 specific neurons:\n"
     ]
    },
    {
     "data": {
      "application/vnd.microsoft.datawrangler.viewer.v0+json": {
       "columns": [
        {
         "name": "index",
         "rawType": "int64",
         "type": "integer"
        },
        {
         "name": "root_id",
         "rawType": "object",
         "type": "string"
        },
        {
         "name": "cell_class",
         "rawType": "object",
         "type": "unknown"
        },
        {
         "name": "cell_type",
         "rawType": "object",
         "type": "unknown"
        },
        {
         "name": "tract",
         "rawType": "object",
         "type": "unknown"
        }
       ],
       "ref": "b9f6c6e6-b758-4542-ac40-99191c0e5f3a",
       "rows": [
        [
         "0",
         "576460752700282748",
         "olfactory_projection_neuron",
         null,
         "mALT"
        ],
        [
         "1",
         "576460752681552812",
         "olfactory_projection_neuron",
         null,
         "mALT"
        ],
        [
         "2",
         "576460752722405178",
         "olfactory_projection_neuron",
         null,
         "mALT"
        ],
        [
         "3",
         "576460752773799604",
         "olfactory_projection_neuron",
         null,
         "mALT"
        ],
        [
         "4",
         "576460752656800770",
         "olfactory_projection_neuron",
         null,
         "lALT"
        ],
        [
         "5",
         "576460752722405178",
         "spiny_kenyon_cell",
         null,
         null
        ],
        [
         "6",
         "576460752681552812",
         null,
         null,
         "mALT"
        ],
        [
         "7",
         "576460752722405178",
         null,
         null,
         "mALT"
        ],
        [
         "8",
         "576460752773799604",
         null,
         null,
         "mALT"
        ],
        [
         "9",
         "576460752700282748",
         null,
         null,
         "mALT"
        ]
       ],
       "shape": {
        "columns": 4,
        "rows": 10
       }
      },
      "text/html": [
       "<div>\n",
       "<style scoped>\n",
       "    .dataframe tbody tr th:only-of-type {\n",
       "        vertical-align: middle;\n",
       "    }\n",
       "\n",
       "    .dataframe tbody tr th {\n",
       "        vertical-align: top;\n",
       "    }\n",
       "\n",
       "    .dataframe thead th {\n",
       "        text-align: right;\n",
       "    }\n",
       "</style>\n",
       "<table border=\"1\" class=\"dataframe\">\n",
       "  <thead>\n",
       "    <tr style=\"text-align: right;\">\n",
       "      <th></th>\n",
       "      <th>root_id</th>\n",
       "      <th>cell_class</th>\n",
       "      <th>cell_type</th>\n",
       "      <th>tract</th>\n",
       "    </tr>\n",
       "  </thead>\n",
       "  <tbody>\n",
       "    <tr>\n",
       "      <th>0</th>\n",
       "      <td>576460752700282748</td>\n",
       "      <td>olfactory_projection_neuron</td>\n",
       "      <td>None</td>\n",
       "      <td>mALT</td>\n",
       "    </tr>\n",
       "    <tr>\n",
       "      <th>1</th>\n",
       "      <td>576460752681552812</td>\n",
       "      <td>olfactory_projection_neuron</td>\n",
       "      <td>None</td>\n",
       "      <td>mALT</td>\n",
       "    </tr>\n",
       "    <tr>\n",
       "      <th>2</th>\n",
       "      <td>576460752722405178</td>\n",
       "      <td>olfactory_projection_neuron</td>\n",
       "      <td>None</td>\n",
       "      <td>mALT</td>\n",
       "    </tr>\n",
       "    <tr>\n",
       "      <th>3</th>\n",
       "      <td>576460752773799604</td>\n",
       "      <td>olfactory_projection_neuron</td>\n",
       "      <td>None</td>\n",
       "      <td>mALT</td>\n",
       "    </tr>\n",
       "    <tr>\n",
       "      <th>4</th>\n",
       "      <td>576460752656800770</td>\n",
       "      <td>olfactory_projection_neuron</td>\n",
       "      <td>None</td>\n",
       "      <td>lALT</td>\n",
       "    </tr>\n",
       "    <tr>\n",
       "      <th>5</th>\n",
       "      <td>576460752722405178</td>\n",
       "      <td>spiny_kenyon_cell</td>\n",
       "      <td>None</td>\n",
       "      <td>None</td>\n",
       "    </tr>\n",
       "    <tr>\n",
       "      <th>6</th>\n",
       "      <td>576460752681552812</td>\n",
       "      <td>None</td>\n",
       "      <td>None</td>\n",
       "      <td>mALT</td>\n",
       "    </tr>\n",
       "    <tr>\n",
       "      <th>7</th>\n",
       "      <td>576460752722405178</td>\n",
       "      <td>None</td>\n",
       "      <td>None</td>\n",
       "      <td>mALT</td>\n",
       "    </tr>\n",
       "    <tr>\n",
       "      <th>8</th>\n",
       "      <td>576460752773799604</td>\n",
       "      <td>None</td>\n",
       "      <td>None</td>\n",
       "      <td>mALT</td>\n",
       "    </tr>\n",
       "    <tr>\n",
       "      <th>9</th>\n",
       "      <td>576460752700282748</td>\n",
       "      <td>None</td>\n",
       "      <td>None</td>\n",
       "      <td>mALT</td>\n",
       "    </tr>\n",
       "  </tbody>\n",
       "</table>\n",
       "</div>"
      ],
      "text/plain": [
       "              root_id                   cell_class cell_type tract\n",
       "0  576460752700282748  olfactory_projection_neuron      None  mALT\n",
       "1  576460752681552812  olfactory_projection_neuron      None  mALT\n",
       "2  576460752722405178  olfactory_projection_neuron      None  mALT\n",
       "3  576460752773799604  olfactory_projection_neuron      None  mALT\n",
       "4  576460752656800770  olfactory_projection_neuron      None  lALT\n",
       "5  576460752722405178            spiny_kenyon_cell      None  None\n",
       "6  576460752681552812                         None      None  mALT\n",
       "7  576460752722405178                         None      None  mALT\n",
       "8  576460752773799604                         None      None  mALT\n",
       "9  576460752700282748                         None      None  mALT"
      ]
     },
     "metadata": {},
     "output_type": "display_data"
    }
   ],
   "source": [
    "# Get annotations for a NeuronCriteria object\n",
    "mb_neurons = cp.NeuronCriteria(region='MB')\n",
    "mb_annotations = cp.get_annotations(mb_neurons)\n",
    "\n",
    "print(f\"Retrieved annotations for {len(mb_annotations)} MB neurons\")\n",
    "print(f\"\\nColumns available: {list(mb_annotations.columns)}\")\n",
    "print(\"\\nFirst few rows:\")\n",
    "display(mb_annotations[['root_id', 'cell_class', 'cell_type', 'side', 'region']].head())\n",
    "\n",
    "# Get annotations for specific root IDs\n",
    "sample_ids = opn_ids[:5]\n",
    "sample_annotations = cp.get_annotations(sample_ids)\n",
    "print(f\"\\nAnnotations for {len(sample_annotations)} specific neurons:\")\n",
    "display(sample_annotations[['root_id', 'cell_class', 'cell_type', 'tract']])"
   ]
  },
  {
   "cell_type": "markdown",
   "id": "9f6db5ee",
   "metadata": {},
   "source": [
    "### Automatic ID Updating\n",
    "\n",
    "CRANTpy automatically handles segmentation edits through the `update_ids` parameter. When neurons are edited in the segmentation, their root IDs change. This can cause mismatches between your query IDs and annotation IDs."
   ]
  },
  {
   "cell_type": "code",
   "execution_count": 16,
   "id": "0d3b5f87",
   "metadata": {},
   "outputs": [
    {
     "name": "stdout",
     "output_type": "stream",
     "text": [
      "NeuronCriteria returned 107 neurons with updated IDs\n",
      "\n",
      "Successfully retrieved annotations for ID 576460752700282748\n",
      "Cell class: olfactory_projection_neuron\n",
      "\n",
      "Without update_ids: 107 neurons\n",
      "Annotations retrieved without ID updating\n"
     ]
    }
   ],
   "source": [
    "# By default, both NeuronCriteria and get_annotations update IDs automatically\n",
    "\n",
    "# Example 1: NeuronCriteria automatically updates returned IDs\n",
    "nc = cp.NeuronCriteria(cell_class='olfactory_projection_neuron')\n",
    "current_ids = nc.get_roots()  # These are the latest root IDs\n",
    "print(f\"NeuronCriteria returned {len(current_ids)} neurons with updated IDs\")\n",
    "\n",
    "# Example 2: get_annotations updates annotation IDs before matching\n",
    "# This ensures that even if you have a newer root ID, it will match\n",
    "# against the updated annotation IDs\n",
    "sample_id = int(current_ids[0])  # Convert numpy int64 to Python int\n",
    "annotations = cp.get_annotations(sample_id)  # update_ids=True by default\n",
    "print(f\"\\nSuccessfully retrieved annotations for ID {sample_id}\")\n",
    "print(f\"Cell class: {annotations.iloc[0]['cell_class']}\")\n",
    "\n",
    "# You can disable automatic updating if needed\n",
    "nc_no_update = cp.NeuronCriteria(cell_class='olfactory_projection_neuron', update_ids=False)\n",
    "old_style_ids = nc_no_update.get_roots()  # IDs as stored in annotations\n",
    "print(f\"\\nWithout update_ids: {len(old_style_ids)} neurons\")\n",
    "\n",
    "# Similarly for get_annotations\n",
    "annotations_no_update = cp.get_annotations(sample_id, update_ids=False)\n",
    "print(f\"Annotations retrieved without ID updating\")"
   ]
  },
  {
   "cell_type": "markdown",
   "id": "782ae10f",
   "metadata": {},
   "source": [
    "**Why is this important?**\n",
    "\n",
    "When the segmentation is edited (e.g., neurons are merged or split), root IDs change. Without automatic updating:\n",
    "- Your queries might use outdated IDs that no longer exist\n",
    "- Annotations might contain old IDs that don't match your current data\n",
    "- You'd need to manually track and update IDs\n",
    "\n",
    "With automatic updating enabled (the default):\n",
    "- `NeuronCriteria.get_roots()` returns the latest root IDs\n",
    "- `get_annotations()` updates annotation IDs before matching\n",
    "- Everything stays synchronized automatically\n",
    "- Per-ID caching makes this efficient"
   ]
  },
  {
   "cell_type": "markdown",
   "id": "2758788f",
   "metadata": {},
   "source": [
    "## 6. Checking Proofread Status\n",
    "\n",
    "You can quickly check which neurons are proofread using the `is_proofread` function."
   ]
  },
  {
   "cell_type": "code",
   "execution_count": 17,
   "id": "944b6db7",
   "metadata": {},
   "outputs": [
    {
     "name": "stdout",
     "output_type": "stream",
     "text": [
      "Checking proofread status for 10 neurons:\n",
      "  576460752700282748: ✗ Not proofread\n",
      "  576460752681552812: ✓ Proofread\n",
      "  576460752722405178: ✗ Not proofread\n",
      "  576460752773799604: ✓ Proofread\n",
      "  576460752656800770: ✓ Proofread\n",
      "  576460752722298426: ✗ Not proofread\n",
      "  576460752768215072: ✗ Not proofread\n",
      "  576460752680204173: ✓ Proofread\n",
      "  576460752728003009: ✓ Proofread\n",
      "  576460752780951210: ✗ Not proofread\n",
      "\n",
      "Summary: 5/10 are proofread\n",
      "\n",
      "Of all 107 OPNs, 65 are proofread\n"
     ]
    }
   ],
   "source": [
    "# Check proofread status for a list of neurons\n",
    "sample_ids = opn_ids[:10]\n",
    "proofread_status = cp.is_proofread(sample_ids)\n",
    "\n",
    "print(f\"Checking proofread status for {len(sample_ids)} neurons:\")\n",
    "for neuron_id, is_pr in zip(sample_ids, proofread_status):\n",
    "    status = \"✓ Proofread\" if is_pr else \"✗ Not proofread\"\n",
    "    print(f\"  {neuron_id}: {status}\")\n",
    "\n",
    "print(f\"\\nSummary: {np.sum(proofread_status)}/{len(proofread_status)} are proofread\")\n",
    "\n",
    "# You can also check using NeuronCriteria\n",
    "proofread_status_criteria = cp.is_proofread(olfactory_projection_neurons)\n",
    "print(f\"\\nOf all {len(olfactory_projection_neurons)} OPNs, {np.sum(proofread_status_criteria)} are proofread\")"
   ]
  },
  {
   "cell_type": "markdown",
   "id": "f199948e",
   "metadata": {},
   "source": [
    "## 7. NeuronCriteria as Iterable and Container\n",
    "\n",
    "`NeuronCriteria` objects support Python's iterator and container protocols, making them very convenient to use."
   ]
  },
  {
   "cell_type": "code",
   "execution_count": 18,
   "id": "a4e07ed3",
   "metadata": {},
   "outputs": [
    {
     "name": "stdout",
     "output_type": "stream",
     "text": [
      "Number of OPNs: 107\n",
      "\n",
      "First 5 OPN root IDs (using iteration):\n",
      "  576460752700282748\n",
      "  576460752681552812\n",
      "  576460752722405178\n",
      "  576460752773799604\n",
      "  576460752656800770\n",
      "\n",
      "Is 576460752700282748 an OPN? True\n",
      "Is 576460752700282748 an OPN? True\n"
     ]
    }
   ],
   "source": [
    "# Get length\n",
    "print(f\"Number of OPNs: {len(olfactory_projection_neurons)}\")\n",
    "\n",
    "# Iterate over root IDs\n",
    "print(\"\\nFirst 5 OPN root IDs (using iteration):\")\n",
    "for i, root_id in enumerate(olfactory_projection_neurons):\n",
    "    if i >= 5:\n",
    "        break\n",
    "    print(f\"  {root_id}\")\n",
    "\n",
    "# Check membership\n",
    "sample_id = opn_ids[0]\n",
    "is_member = sample_id in olfactory_projection_neurons\n",
    "print(f\"\\nIs {sample_id} an OPN? {is_member}\")\n",
    "\n",
    "# Check a neuron that's not an OPN\n",
    "non_opn_id = left_ids[0]  # A random left neuron\n",
    "is_member = non_opn_id in olfactory_projection_neurons\n",
    "print(f\"Is {non_opn_id} an OPN? {is_member}\")"
   ]
  },
  {
   "cell_type": "markdown",
   "id": "dbd8cf35",
   "metadata": {},
   "source": [
    "## 8. Performance and Caching\n",
    "\n",
    "CRANTpy caches annotation data to improve performance. You can control this behavior."
   ]
  },
  {
   "cell_type": "code",
   "execution_count": 19,
   "id": "70830364",
   "metadata": {},
   "outputs": [
    {
     "name": "stdout",
     "output_type": "stream",
     "text": [
      "First query (no cache): 2.984 seconds\n",
      "Second query (cached): 0.006 seconds\n",
      "Query with cache refresh: 1.749 seconds\n",
      "Query with cache refresh: 1.749 seconds\n"
     ]
    }
   ],
   "source": [
    "import time\n",
    "\n",
    "# First query - may take longer (fetching from Seatable)\n",
    "start = time.time()\n",
    "query1 = cp.NeuronCriteria(cell_class='olfactory_projection_neuron', clear_cache=True)\n",
    "ids1 = query1.get_roots()\n",
    "time1 = time.time() - start\n",
    "print(f\"First query (no cache): {time1:.3f} seconds\")\n",
    "\n",
    "# Second query - should be faster (using cached data)\n",
    "start = time.time()\n",
    "query2 = cp.NeuronCriteria(cell_class='olfactory_projection_neuron')\n",
    "ids2 = query2.get_roots()\n",
    "time2 = time.time() - start\n",
    "print(f\"Second query (cached): {time2:.3f} seconds\")\n",
    "\n",
    "# Force refresh from Seatable\n",
    "start = time.time()\n",
    "query3 = cp.NeuronCriteria(cell_class='olfactory_projection_neuron', clear_cache=True)\n",
    "ids3 = query3.get_roots()\n",
    "time3 = time.time() - start\n",
    "print(f\"Query with cache refresh: {time3:.3f} seconds\")"
   ]
  },
  {
   "cell_type": "markdown",
   "id": "24f9b568",
   "metadata": {},
   "source": [
    "## 9. Analyzing Query Results\n",
    "\n",
    "Once you have a set of neurons, you can perform various analyses on their annotations."
   ]
  },
  {
   "cell_type": "code",
   "execution_count": 20,
   "id": "8cd8bcb0",
   "metadata": {},
   "outputs": [
    {
     "name": "stdout",
     "output_type": "stream",
     "text": [
      "Found 3 tracts: ['mALT', 'lALT', 'mlALT']...\n"
     ]
    },
    {
     "name": "stderr",
     "output_type": "stream",
     "text": [
      "2025-10-10 08:02:04 - WARNING - Failed to update 2 annotation root ID(s). These IDs may no longer exist.\n"
     ]
    },
    {
     "name": "stdout",
     "output_type": "stream",
     "text": [
      "\n",
      "Tract analysis:\n"
     ]
    },
    {
     "data": {
      "application/vnd.microsoft.datawrangler.viewer.v0+json": {
       "columns": [
        {
         "name": "index",
         "rawType": "int64",
         "type": "integer"
        },
        {
         "name": "tract",
         "rawType": "object",
         "type": "string"
        },
        {
         "name": "n_neurons",
         "rawType": "int64",
         "type": "integer"
        },
        {
         "name": "n_cell_classes",
         "rawType": "int64",
         "type": "integer"
        },
        {
         "name": "n_cell_types",
         "rawType": "int64",
         "type": "integer"
        },
        {
         "name": "n_proofread",
         "rawType": "int64",
         "type": "integer"
        },
        {
         "name": "pct_proofread",
         "rawType": "object",
         "type": "string"
        }
       ],
       "ref": "39363b0b-0432-40e4-af4b-ebbb227c6986",
       "rows": [
        [
         "0",
         "mALT",
         "2275",
         "4",
         "0",
         "41",
         "1.8%"
        ],
        [
         "1",
         "lALT",
         "227",
         "2",
         "0",
         "29",
         "12.8%"
        ],
        [
         "2",
         "mlALT",
         "235",
         "3",
         "0",
         "3",
         "1.3%"
        ]
       ],
       "shape": {
        "columns": 6,
        "rows": 3
       }
      },
      "text/html": [
       "<div>\n",
       "<style scoped>\n",
       "    .dataframe tbody tr th:only-of-type {\n",
       "        vertical-align: middle;\n",
       "    }\n",
       "\n",
       "    .dataframe tbody tr th {\n",
       "        vertical-align: top;\n",
       "    }\n",
       "\n",
       "    .dataframe thead th {\n",
       "        text-align: right;\n",
       "    }\n",
       "</style>\n",
       "<table border=\"1\" class=\"dataframe\">\n",
       "  <thead>\n",
       "    <tr style=\"text-align: right;\">\n",
       "      <th></th>\n",
       "      <th>tract</th>\n",
       "      <th>n_neurons</th>\n",
       "      <th>n_cell_classes</th>\n",
       "      <th>n_cell_types</th>\n",
       "      <th>n_proofread</th>\n",
       "      <th>pct_proofread</th>\n",
       "    </tr>\n",
       "  </thead>\n",
       "  <tbody>\n",
       "    <tr>\n",
       "      <th>0</th>\n",
       "      <td>mALT</td>\n",
       "      <td>2275</td>\n",
       "      <td>4</td>\n",
       "      <td>0</td>\n",
       "      <td>41</td>\n",
       "      <td>1.8%</td>\n",
       "    </tr>\n",
       "    <tr>\n",
       "      <th>1</th>\n",
       "      <td>lALT</td>\n",
       "      <td>227</td>\n",
       "      <td>2</td>\n",
       "      <td>0</td>\n",
       "      <td>29</td>\n",
       "      <td>12.8%</td>\n",
       "    </tr>\n",
       "    <tr>\n",
       "      <th>2</th>\n",
       "      <td>mlALT</td>\n",
       "      <td>235</td>\n",
       "      <td>3</td>\n",
       "      <td>0</td>\n",
       "      <td>3</td>\n",
       "      <td>1.3%</td>\n",
       "    </tr>\n",
       "  </tbody>\n",
       "</table>\n",
       "</div>"
      ],
      "text/plain": [
       "   tract  n_neurons  n_cell_classes  n_cell_types  n_proofread pct_proofread\n",
       "0   mALT       2275               4             0           41          1.8%\n",
       "1   lALT        227               2             0           29         12.8%\n",
       "2  mlALT        235               3             0            3          1.3%"
      ]
     },
     "metadata": {},
     "output_type": "display_data"
    },
    {
     "data": {
      "image/png": "[encoded data removed]",
      "text/plain": [
       "<Figure size 1500x500 with 2 Axes>"
      ]
     },
     "metadata": {},
     "output_type": "display_data"
    }
   ],
   "source": [
    "# Analyze connectivity patterns by tract\n",
    "tracts = all_annotations['tract'].dropna().unique()\n",
    "print(f\"Found {len(tracts)} tracts: {list(tracts)[:10]}...\")  # Show first 10\n",
    "\n",
    "# Analyze each tract\n",
    "tract_analysis = []\n",
    "for tract in tracts[:8]:  # Analyze first 8 tracts for demonstration\n",
    "    tract_neurons = cp.NeuronCriteria(tract=tract)\n",
    "    tract_ids = tract_neurons.get_roots()\n",
    "    tract_annotations = cp.get_annotations(tract_neurons)\n",
    "    \n",
    "    # Count unique cell classes\n",
    "    n_cell_classes = len(tract_annotations['cell_class'].unique())\n",
    "    n_cell_types = len(tract_annotations['cell_type'].dropna().unique())\n",
    "    \n",
    "    # Count proofread neurons\n",
    "    n_proofread = tract_annotations['proofread'].sum() if 'proofread' in tract_annotations.columns else 0\n",
    "    \n",
    "    tract_analysis.append({\n",
    "        'tract': tract,\n",
    "        'n_neurons': len(tract_ids),\n",
    "        'n_cell_classes': n_cell_classes,\n",
    "        'n_cell_types': n_cell_types,\n",
    "        'n_proofread': n_proofread,\n",
    "        'pct_proofread': f\"{100 * n_proofread / len(tract_ids):.1f}%\"\n",
    "    })\n",
    "\n",
    "tract_df = pd.DataFrame(tract_analysis)\n",
    "print(\"\\nTract analysis:\")\n",
    "display(tract_df)\n",
    "\n",
    "# Visualize tract composition\n",
    "fig, (ax1, ax2) = plt.subplots(1, 2, figsize=(15, 5))\n",
    "\n",
    "tract_df.plot(x='tract', y='n_neurons', kind='bar', ax=ax1, color='steelblue', legend=False)\n",
    "ax1.set_title('Neuron Count by Tract', fontsize=12, fontweight='bold')\n",
    "ax1.set_xlabel('Tract')\n",
    "ax1.set_ylabel('Number of Neurons')\n",
    "ax1.tick_params(axis='x', rotation=45)\n",
    "\n",
    "tract_df.plot(x='tract', y='n_cell_classes', kind='bar', ax=ax2, color='coral', legend=False)\n",
    "ax2.set_title('Cell Class Diversity by Tract', fontsize=12, fontweight='bold')\n",
    "ax2.set_xlabel('Tract')\n",
    "ax2.set_ylabel('Number of Cell Classes')\n",
    "ax2.tick_params(axis='x', rotation=45)\n",
    "\n",
    "plt.tight_layout()\n",
    "plt.show()"
   ]
  },
  {
   "cell_type": "markdown",
   "id": "34b3f777",
   "metadata": {},
   "source": [
    "### Cross-Analysis: Comparing Populations"
   ]
  },
  {
   "cell_type": "code",
   "execution_count": 21,
   "id": "b68294d7",
   "metadata": {},
   "outputs": [
    {
     "name": "stdout",
     "output_type": "stream",
     "text": [
      "Left side: 3792 neurons\n",
      "Right side: 1897 neurons\n",
      "\n",
      "Top 5 cell classes on left:\n",
      "cell_class\n",
      "descending_neuron              96\n",
      "ER                             76\n",
      "FBc                            64\n",
      "olfactory_projection_neuron    63\n",
      "FBt                            52\n",
      "Name: count, dtype: int64\n",
      "\n",
      "Top 5 cell classes on right:\n",
      "cell_class\n",
      "FBc                            102\n",
      "olfactory_projection_neuron     79\n",
      "ER                              60\n",
      "spiny_kenyon_cell               38\n",
      "photo_receptor                  38\n",
      "Name: count, dtype: int64\n"
     ]
    },
    {
     "data": {
      "image/png": "[encoded data removed]",
      "text/plain": [
       "<Figure size 1600x600 with 2 Axes>"
      ]
     },
     "metadata": {},
     "output_type": "display_data"
    }
   ],
   "source": [
    "# Compare left vs right neurons\n",
    "left_neurons = cp.NeuronCriteria(side='left')\n",
    "right_neurons = cp.NeuronCriteria(side='right')\n",
    "\n",
    "left_ann = cp.get_annotations(left_neurons)\n",
    "right_ann = cp.get_annotations(right_neurons)\n",
    "\n",
    "print(f\"Left side: {len(left_ann)} neurons\")\n",
    "print(f\"Right side: {len(right_ann)} neurons\")\n",
    "\n",
    "# Compare cell class distribution\n",
    "print(\"\\nTop 5 cell classes on left:\")\n",
    "print(left_ann['cell_class'].value_counts().head())\n",
    "\n",
    "print(\"\\nTop 5 cell classes on right:\")\n",
    "print(right_ann['cell_class'].value_counts().head())\n",
    "\n",
    "# Visualize comparison\n",
    "fig, axes = plt.subplots(1, 2, figsize=(16, 6))\n",
    "\n",
    "left_ann['cell_class'].value_counts().head(10).plot(kind='barh', ax=axes[0], color='steelblue')\n",
    "axes[0].set_title('Left Side - Top 10 Cell Classes', fontsize=12, fontweight='bold')\n",
    "axes[0].set_xlabel('Count')\n",
    "\n",
    "right_ann['cell_class'].value_counts().head(10).plot(kind='barh', ax=axes[1], color='coral')\n",
    "axes[1].set_title('Right Side - Top 10 Cell Classes', fontsize=12, fontweight='bold')\n",
    "axes[1].set_xlabel('Count')\n",
    "\n",
    "plt.tight_layout()\n",
    "plt.show()"
   ]
  },
  {
   "cell_type": "markdown",
   "id": "d79b0348",
   "metadata": {},
   "source": [
    "## 10. Best Practices and Tips\n",
    "\n",
    "Here are some best practices for effective querying with CRANTpy."
   ]
  },
  {
   "cell_type": "markdown",
   "id": "bde4e128",
   "metadata": {},
   "source": [
    "### 1. Start Broad, Then Refine\n",
    "\n",
    "Begin with broad queries and progressively add criteria to narrow down your results."
   ]
  },
  {
   "cell_type": "code",
   "execution_count": 22,
   "id": "b4b30196",
   "metadata": {},
   "outputs": [
    {
     "name": "stdout",
     "output_type": "stream",
     "text": [
      "Step 1 - All CX neurons: 656\n",
      "Step 2 - Left CX neurons: 298\n",
      "Step 3 - Left CX ER neurons: 70\n",
      "Step 4 - Proofread left CX ER neurons: 59\n"
     ]
    }
   ],
   "source": [
    "# Step 1: Broad query\n",
    "step1 = cp.NeuronCriteria(region='CX')\n",
    "print(f\"Step 1 - All CX neurons: {len(step1)}\")\n",
    "\n",
    "# Step 2: Add side constraint\n",
    "step2 = cp.NeuronCriteria(region='CX', side='left')\n",
    "print(f\"Step 2 - Left CX neurons: {len(step2)}\")\n",
    "\n",
    "# Step 3: Add cell class\n",
    "step3 = cp.NeuronCriteria(region='CX', side='left', cell_class='ER')\n",
    "print(f\"Step 3 - Left CX ER neurons: {len(step3)}\")\n",
    "\n",
    "# Step 4: Add proofread constraint\n",
    "step4 = cp.NeuronCriteria(region='CX', side='left', cell_class='ER', proofread=True)\n",
    "print(f\"Step 4 - Proofread left CX ER neurons: {len(step4)}\")"
   ]
  },
  {
   "cell_type": "markdown",
   "id": "1754fedc",
   "metadata": {},
   "source": [
    "### 2. Use `verbose=True` for Debugging\n",
    "\n",
    "Enable verbose mode to see what's happening during queries."
   ]
  },
  {
   "cell_type": "code",
   "execution_count": 23,
   "id": "40fc0c53",
   "metadata": {},
   "outputs": [
    {
     "name": "stderr",
     "output_type": "stream",
     "text": [
      "2025-10-10 08:02:05 - DEBUG - Generated cache key: latest for seatable_annotations\n",
      "2025-10-10 08:02:05 - DEBUG - Cache hit for seatable_annotations with key: latest\n",
      "2025-10-10 08:02:05 - DEBUG - Using cached seatable_annotations.\n",
      "2025-10-10 08:02:05 - DEBUG - update_ids_cache: 37 cached, 0 uncached\n",
      "2025-10-10 08:02:05 - DEBUG - Using fully cached results from update_ids_cache\n",
      "2025-10-10 08:02:05 - DEBUG - Cache hit for seatable_annotations with key: latest\n",
      "2025-10-10 08:02:05 - DEBUG - Using cached seatable_annotations.\n",
      "2025-10-10 08:02:05 - DEBUG - update_ids_cache: 37 cached, 0 uncached\n",
      "2025-10-10 08:02:05 - DEBUG - Using fully cached results from update_ids_cache\n",
      "2025-10-10 08:02:05 - DEBUG - Generated cache key: latest for seatable_annotations\n",
      "2025-10-10 08:02:05 - DEBUG - Cache hit for seatable_annotations with key: latest\n",
      "2025-10-10 08:02:05 - DEBUG - Using cached seatable_annotations.\n",
      "2025-10-10 08:02:05 - INFO - Found 37 neurons matching the given criteria.\n",
      "2025-10-10 08:02:05 - DEBUG - update_ids_cache: 37 cached, 0 uncached\n",
      "2025-10-10 08:02:05 - DEBUG - Using fully cached results from update_ids_cache\n",
      "2025-10-10 08:02:05 - DEBUG - Generated cache key: latest for seatable_annotations\n",
      "2025-10-10 08:02:05 - DEBUG - Cache hit for seatable_annotations with key: latest\n",
      "2025-10-10 08:02:05 - DEBUG - Using cached seatable_annotations.\n",
      "2025-10-10 08:02:05 - INFO - Found 37 neurons matching the given criteria.\n",
      "2025-10-10 08:02:05 - DEBUG - update_ids_cache: 37 cached, 0 uncached\n",
      "2025-10-10 08:02:05 - DEBUG - Using fully cached results from update_ids_cache\n"
     ]
    }
   ],
   "source": [
    "cp.set_logging_level(\"DEBUG\") # this needs to be updated to see messages\n",
    "\n",
    "# Without verbose (default)\n",
    "query_quiet = cp.NeuronCriteria(cell_class='olfactory_projection_neuron', side='left')\n",
    "ids_quiet = query_quiet.get_roots()\n",
    "\n",
    "# With verbose\n",
    "query_verbose = cp.NeuronCriteria(\n",
    "    cell_class='olfactory_projection_neuron',\n",
    "    side='left',\n",
    "    verbose=True\n",
    ")\n",
    "ids_verbose = query_verbose.get_roots()\n",
    "\n",
    "cp.set_logging_level(\"WARNING\")"
   ]
  },
  {
   "cell_type": "markdown",
   "id": "81c66a2b",
   "metadata": {},
   "source": [
    "### 3. Inspect Available Values Before Querying\n",
    "\n",
    "Check what values exist in your fields of interest before building queries."
   ]
  },
  {
   "cell_type": "code",
   "execution_count": 24,
   "id": "f07d2963",
   "metadata": {},
   "outputs": [
    {
     "name": "stdout",
     "output_type": "stream",
     "text": [
      "Available tracts:\n",
      "['mALT' 'lALT' 'mlALT']\n",
      "\n",
      "Available statuses (flatten lists):\n",
      "{'MISSING_SOMA', 'empty', 'NA', 'MERGE_ERROR', 'MERGE_MONSTER', 'DUPLICATED', 'TO_PROOFREAD', 'BACKBONE_PROOFREAD', 'PARTIALLY_PROOFREAD', 'DAMAGED', 'TRACING_ISSUE', 'THOROUGHLY_PROOFREAD'}\n",
      "\n",
      "Cell types for mushroom_body_intrinsic_neuron:\n",
      "cell_type\n",
      "FBt6      16\n",
      "FBt2      15\n",
      "FBt       12\n",
      "FBt5      11\n",
      "FBt4       9\n",
      "FBt3       9\n",
      "FBt1       6\n",
      "FBt5/6     6\n",
      "FBt2/3     5\n",
      "FBt1/2     2\n",
      "Name: count, dtype: int64\n"
     ]
    }
   ],
   "source": [
    "# Check what tracts are available\n",
    "print(\"Available tracts:\")\n",
    "print(all_annotations['tract'].dropna().unique())\n",
    "\n",
    "# Check what statuses exist\n",
    "print(\"\\nAvailable statuses (flatten lists):\")\n",
    "status_lists = all_annotations['status'].dropna().tolist()\n",
    "flat_statuses = set([status for sublist in status_lists for status in (sublist if isinstance(sublist, list) else [sublist])])\n",
    "print(flat_statuses)\n",
    "\n",
    "# Check cell types for a specific cell class\n",
    "fbt_neurons_check = cp.NeuronCriteria(cell_class='FBt')\n",
    "fbt_ann_check = cp.get_annotations(fbt_neurons_check)\n",
    "print(\"\\nCell types for mushroom_body_intrinsic_neuron:\")\n",
    "print(fbt_ann_check['cell_type'].value_counts())"
   ]
  },
  {
   "cell_type": "markdown",
   "id": "2be01b78",
   "metadata": {},
   "source": [
    "## Summary\n",
    "\n",
    "In this comprehensive deep dive, you learned:\n",
    "\n",
    "✅ **NeuronCriteria fundamentals** - Basic and multi-criterion queries  \n",
    "✅ **Advanced filtering options** - `regex`, `match_all`, `exact`, `case` parameters  \n",
    "✅ **Working with annotations** - Fetching and analyzing neuron metadata  \n",
    "✅ **Proofread status checking** - Identifying which neurons are proofread  \n",
    "✅ **Iterator/container protocols** - Using NeuronCriteria as iterable objects  \n",
    "✅ **Performance optimization** - Understanding and controlling caching behavior  \n",
    "✅ **Population analysis** - Comparing and analyzing query results  \n",
    "✅ **Best practices** - Strategies for efficient and effective querying  \n",
    "\n",
    "### Key Takeaways\n",
    "\n",
    "1. **Combine criteria**: Use multiple parameters to precisely target neuron populations\n",
    "2. **Leverage regex**: Pattern matching is powerful for finding related neuron groups\n",
    "3. **Understand match_all**: Control how lists are matched (ANY vs ALL)\n",
    "4. **Inspect first**: Always explore available data before building complex queries\n",
    "5. **Use annotations**: Don't just get IDs - analyze the full metadata"
   ]
  }
 ],
 "metadata": {
  "kernelspec": {
   "display_name": "crantpy-2RjYzxAC-py3.10",
   "language": "python",
   "name": "python3"
  },
  "language_info": {
   "codemirror_mode": {
    "name": "ipython",
    "version": 3
   },
   "file_extension": ".py",
   "mimetype": "text/x-python",
   "name": "python",
   "nbconvert_exporter": "python",
   "pygments_lexer": "ipython3",
   "version": "3.10.14"
  }
 },
 "nbformat": 4,
 "nbformat_minor": 5
}
